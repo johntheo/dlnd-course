{
  "nbformat": 4,
  "nbformat_minor": 0,
  "metadata": {
    "colab": {
      "name": "dlnd_image_classification.ipynb",
      "version": "0.3.2",
      "views": {},
      "default_view": {},
      "provenance": [],
      "collapsed_sections": [
        "x7-0V-IoVxRZ"
      ]
    },
    "kernelspec": {
      "display_name": "Python 3",
      "language": "python",
      "name": "python3"
    },
    "accelerator": "GPU"
  },
  "cells": [
    {
      "metadata": {
        "id": "x7-0V-IoVxRZ",
        "colab_type": "text"
      },
      "cell_type": "markdown",
      "source": [
        "## PREPARATION\n",
        "\n",
        "This section was used to install some required packages as well as prepare the environment to use in [Google Collaboratory](https://colab.research.google.com/).  \n",
        "If you configure your environment using the requirement.txt or you are running in another cloud(AWS or even locally), this section is not required."
      ]
    },
    {
      "metadata": {
        "id": "Z1-yGBLkMGl5",
        "colab_type": "code",
        "colab": {
          "autoexec": {
            "startup": false,
            "wait_interval": 0
          },
          "output_extras": [
            {
              "item_id": 2
            }
          ],
          "base_uri": "https://localhost:8080/",
          "height": 88
        },
        "outputId": "f03bc30d-bce2-4504-bd0e-4f19232eb0d9",
        "executionInfo": {
          "status": "ok",
          "timestamp": 1520878252766,
          "user_tz": 180,
          "elapsed": 3775,
          "user": {
            "displayName": "John Theo",
            "photoUrl": "//lh6.googleusercontent.com/-fECaVwQa6JE/AAAAAAAAAAI/AAAAAAAAFFc/W-idqhaMJgQ/s50-c-k-no/photo.jpg",
            "userId": "110310482521799337507"
          }
        }
      },
      "cell_type": "code",
      "source": [
        "# INSTALLING REQUIRED PACKAGES\n",
        "!pip install tqdm\n",
        "!pip install sklearn"
      ],
      "execution_count": 57,
      "outputs": [
        {
          "output_type": "stream",
          "text": [
            "Requirement already satisfied: tqdm in /usr/local/lib/python3.6/dist-packages\n",
            "Requirement already satisfied: sklearn in /usr/local/lib/python3.6/dist-packages\n",
            "Requirement already satisfied: scikit-learn in /usr/local/lib/python3.6/dist-packages (from sklearn)\n"
          ],
          "name": "stdout"
        }
      ]
    },
    {
      "metadata": {
        "id": "meHpmHEoMRUW",
        "colab_type": "code",
        "colab": {
          "autoexec": {
            "startup": false,
            "wait_interval": 0
          },
          "output_extras": [
            {
              "item_id": 1
            }
          ],
          "base_uri": "https://localhost:8080/",
          "height": 54
        },
        "outputId": "3e07966f-8ccc-4400-8b03-c768beb4bfb1",
        "executionInfo": {
          "status": "ok",
          "timestamp": 1520878253650,
          "user_tz": 180,
          "elapsed": 861,
          "user": {
            "displayName": "John Theo",
            "photoUrl": "//lh6.googleusercontent.com/-fECaVwQa6JE/AAAAAAAAAAI/AAAAAAAAFFc/W-idqhaMJgQ/s50-c-k-no/photo.jpg",
            "userId": "110310482521799337507"
          }
        }
      },
      "cell_type": "code",
      "source": [
        "# DOWNLOAD AUXILIAR CODE TO THE GOOGLE COLLABORATORY ENVIRONMENT\n",
        "!git clone https://github.com/johntheo/dlnd-course.git"
      ],
      "execution_count": 58,
      "outputs": [
        {
          "output_type": "stream",
          "text": [
            "fatal: destination path 'dlnd-course' already exists and is not an empty directory.\r\n"
          ],
          "name": "stdout"
        }
      ]
    },
    {
      "metadata": {
        "id": "TmSS42bAM29I",
        "colab_type": "code",
        "colab": {
          "autoexec": {
            "startup": false,
            "wait_interval": 0
          }
        }
      },
      "cell_type": "code",
      "source": [
        "# ADDING DOWNLOADED CODE TO THE PATH. SO IT CAN BE IMPORTED FORWARD\n",
        "import sys\n",
        "sys.path.insert(0, 'dlnd-course/project-2')"
      ],
      "execution_count": 0,
      "outputs": []
    },
    {
      "metadata": {
        "id": "Byh08gz7W8Qn",
        "colab_type": "text"
      },
      "cell_type": "markdown",
      "source": [
        "<hr>"
      ]
    },
    {
      "metadata": {
        "id": "JoSCQ8h-L525",
        "colab_type": "text"
      },
      "cell_type": "markdown",
      "source": [
        "# Image Classification\n",
        "In this project, you'll classify images from the [CIFAR-10 dataset](https://www.cs.toronto.edu/~kriz/cifar.html).  The dataset consists of airplanes, dogs, cats, and other objects. You'll preprocess the images, then train a convolutional neural network on all the samples. The images need to be normalized and the labels need to be one-hot encoded.  You'll get to apply what you learned and build a convolutional, max pooling, dropout, and fully connected layers.  At the end, you'll get to see your neural network's predictions on the sample images.\n",
        "## Get the Data\n",
        "Run the following cell to download the [CIFAR-10 dataset for python](https://www.cs.toronto.edu/~kriz/cifar-10-python.tar.gz)."
      ]
    },
    {
      "metadata": {
        "id": "4CSMVn1DL53D",
        "colab_type": "code",
        "colab": {
          "autoexec": {
            "startup": false,
            "wait_interval": 0
          },
          "output_extras": [
            {
              "item_id": 1
            }
          ],
          "base_uri": "https://localhost:8080/",
          "height": 34
        },
        "outputId": "fd379404-568e-4382-e029-c075d78b38df",
        "executionInfo": {
          "status": "ok",
          "timestamp": 1520878254916,
          "user_tz": 180,
          "elapsed": 490,
          "user": {
            "displayName": "John Theo",
            "photoUrl": "//lh6.googleusercontent.com/-fECaVwQa6JE/AAAAAAAAAAI/AAAAAAAAFFc/W-idqhaMJgQ/s50-c-k-no/photo.jpg",
            "userId": "110310482521799337507"
          }
        }
      },
      "cell_type": "code",
      "source": [
        "\"\"\"\n",
        "DON'T MODIFY ANYTHING IN THIS CELL THAT IS BELOW THIS LINE\n",
        "\"\"\"\n",
        "from urllib.request import urlretrieve\n",
        "from os.path import isfile, isdir\n",
        "from tqdm import tqdm\n",
        "import problem_unittests as tests\n",
        "import tarfile\n",
        "\n",
        "cifar10_dataset_folder_path = 'cifar-10-batches-py'\n",
        "\n",
        "# Use Floyd's cifar-10 dataset if present\n",
        "floyd_cifar10_location = '/cifar/cifar-10-python.tar.gz'\n",
        "if isfile(floyd_cifar10_location):\n",
        "    tar_gz_path = floyd_cifar10_location\n",
        "else:\n",
        "    tar_gz_path = 'cifar-10-python.tar.gz'\n",
        "\n",
        "class DLProgress(tqdm):\n",
        "    last_block = 0\n",
        "\n",
        "    def hook(self, block_num=1, block_size=1, total_size=None):\n",
        "        self.total = total_size\n",
        "        self.update((block_num - self.last_block) * block_size)\n",
        "        self.last_block = block_num\n",
        "\n",
        "if not isfile(tar_gz_path):\n",
        "    with DLProgress(unit='B', unit_scale=True, miniters=1, desc='CIFAR-10 Dataset') as pbar:\n",
        "        urlretrieve(\n",
        "            'https://www.cs.toronto.edu/~kriz/cifar-10-python.tar.gz',\n",
        "            tar_gz_path,\n",
        "            pbar.hook)\n",
        "\n",
        "if not isdir(cifar10_dataset_folder_path):\n",
        "    with tarfile.open(tar_gz_path) as tar:\n",
        "        tar.extractall()\n",
        "        tar.close()\n",
        "\n",
        "\n",
        "tests.test_folder_path(cifar10_dataset_folder_path)"
      ],
      "execution_count": 60,
      "outputs": [
        {
          "output_type": "stream",
          "text": [
            "All files found!\n"
          ],
          "name": "stdout"
        }
      ]
    },
    {
      "metadata": {
        "id": "_X1d0M1JL53H",
        "colab_type": "text"
      },
      "cell_type": "markdown",
      "source": [
        "## Explore the Data\n",
        "The dataset is broken into batches to prevent your machine from running out of memory.  The CIFAR-10 dataset consists of 5 batches, named `data_batch_1`, `data_batch_2`, etc.. Each batch contains the labels and images that are one of the following:\n",
        "* airplane\n",
        "* automobile\n",
        "* bird\n",
        "* cat\n",
        "* deer\n",
        "* dog\n",
        "* frog\n",
        "* horse\n",
        "* ship\n",
        "* truck\n",
        "\n",
        "Understanding a dataset is part of making predictions on the data.  Play around with the code cell below by changing the `batch_id` and `sample_id`. The `batch_id` is the id for a batch (1-5). The `sample_id` is the id for a image and label pair in the batch.\n",
        "\n",
        "Ask yourself \"What are all possible labels?\", \"What is the range of values for the image data?\", \"Are the labels in order or random?\".  Answers to questions like these will help you preprocess the data and end up with better predictions."
      ]
    },
    {
      "metadata": {
        "id": "799Ky1jfL53I",
        "colab_type": "code",
        "colab": {
          "autoexec": {
            "startup": false,
            "wait_interval": 0
          },
          "output_extras": [
            {
              "item_id": 1
            },
            {
              "item_id": 2
            }
          ],
          "base_uri": "https://localhost:8080/",
          "height": 435
        },
        "outputId": "2931cfcb-146e-4b74-9001-0f5d944da7c5",
        "executionInfo": {
          "status": "ok",
          "timestamp": 1520878255595,
          "user_tz": 180,
          "elapsed": 494,
          "user": {
            "displayName": "John Theo",
            "photoUrl": "//lh6.googleusercontent.com/-fECaVwQa6JE/AAAAAAAAAAI/AAAAAAAAFFc/W-idqhaMJgQ/s50-c-k-no/photo.jpg",
            "userId": "110310482521799337507"
          }
        }
      },
      "cell_type": "code",
      "source": [
        "%matplotlib inline\n",
        "%config InlineBackend.figure_format = 'retina'\n",
        "\n",
        "import helper\n",
        "import numpy as np\n",
        "\n",
        "# Explore the dataset\n",
        "batch_id = 3\n",
        "sample_id = 51\n",
        "helper.display_stats(cifar10_dataset_folder_path, batch_id, sample_id)"
      ],
      "execution_count": 61,
      "outputs": [
        {
          "output_type": "stream",
          "text": [
            "\n",
            "Stats of batch 3:\n",
            "Samples: 10000\n",
            "Label Counts: {0: 994, 1: 1042, 2: 965, 3: 997, 4: 990, 5: 1029, 6: 978, 7: 1015, 8: 961, 9: 1029}\n",
            "First 20 Labels: [8, 5, 0, 6, 9, 2, 8, 3, 6, 2, 7, 4, 6, 9, 0, 0, 7, 3, 7, 2]\n",
            "\n",
            "Example of Image 51:\n",
            "Image - Min Value: 48 Max Value: 172\n",
            "Image - Shape: (32, 32, 3)\n",
            "Label - Label Id: 2 Name: bird\n"
          ],
          "name": "stdout"
        },
        {
          "output_type": "display_data",
          "data": {
            "image/png": "[encoded data removed]",
            "text/plain": [
              "<matplotlib.figure.Figure at 0x7f67731fa4a8>"
            ]
          },
          "metadata": {
            "tags": [],
            "image/png": {
              "width": 249,
              "height": 248
            }
          }
        }
      ]
    },
    {
      "metadata": {
        "id": "3BWE104FL53M",
        "colab_type": "text"
      },
      "cell_type": "markdown",
      "source": [
        "## Implement Preprocess Functions\n",
        "### Normalize\n",
        "In the cell below, implement the `normalize` function to take in image data, `x`, and return it as a normalized Numpy array. The values should be in the range of 0 to 1, inclusive.  The return object should be the same shape as `x`."
      ]
    },
    {
      "metadata": {
        "id": "HeExwx8XL53O",
        "colab_type": "code",
        "colab": {
          "autoexec": {
            "startup": false,
            "wait_interval": 0
          },
          "output_extras": [
            {
              "item_id": 1
            }
          ],
          "base_uri": "https://localhost:8080/",
          "height": 34
        },
        "outputId": "948a629d-2672-4128-ed25-f47603d02777",
        "executionInfo": {
          "status": "ok",
          "timestamp": 1520878256293,
          "user_tz": 180,
          "elapsed": 490,
          "user": {
            "displayName": "John Theo",
            "photoUrl": "//lh6.googleusercontent.com/-fECaVwQa6JE/AAAAAAAAAAI/AAAAAAAAFFc/W-idqhaMJgQ/s50-c-k-no/photo.jpg",
            "userId": "110310482521799337507"
          }
        }
      },
      "cell_type": "code",
      "source": [
        "def normalize(x):\n",
        "    \"\"\"\n",
        "    Normalize a list of sample image data in the range of 0 to 1\n",
        "    : x: List of image data.  The image shape is (32, 32, 3)\n",
        "    : return: Numpy array of normalize data\n",
        "    \"\"\"\n",
        "    # TODO: Implement Function\n",
        "    return x/255.0\n",
        "\n",
        "\n",
        "\"\"\"\n",
        "DON'T MODIFY ANYTHING IN THIS CELL THAT IS BELOW THIS LINE\n",
        "\"\"\"\n",
        "tests.test_normalize(normalize)"
      ],
      "execution_count": 62,
      "outputs": [
        {
          "output_type": "stream",
          "text": [
            "Tests Passed\n"
          ],
          "name": "stdout"
        }
      ]
    },
    {
      "metadata": {
        "id": "8dMPA3VUL53S",
        "colab_type": "text"
      },
      "cell_type": "markdown",
      "source": [
        "### One-hot encode\n",
        "Just like the previous code cell, you'll be implementing a function for preprocessing.  This time, you'll implement the `one_hot_encode` function. The input, `x`, are a list of labels.  Implement the function to return the list of labels as One-Hot encoded Numpy array.  The possible values for labels are 0 to 9. The one-hot encoding function should return the same encoding for each value between each call to `one_hot_encode`.  Make sure to save the map of encodings outside the function.\n",
        "\n",
        "Hint: Don't reinvent the wheel."
      ]
    },
    {
      "metadata": {
        "id": "hzDozx1LL53T",
        "colab_type": "code",
        "colab": {
          "autoexec": {
            "startup": false,
            "wait_interval": 0
          },
          "output_extras": [
            {
              "item_id": 1
            }
          ],
          "base_uri": "https://localhost:8080/",
          "height": 34
        },
        "outputId": "9adf149f-b230-453d-82ff-95f461479bbc",
        "executionInfo": {
          "status": "ok",
          "timestamp": 1520878256936,
          "user_tz": 180,
          "elapsed": 491,
          "user": {
            "displayName": "John Theo",
            "photoUrl": "//lh6.googleusercontent.com/-fECaVwQa6JE/AAAAAAAAAAI/AAAAAAAAFFc/W-idqhaMJgQ/s50-c-k-no/photo.jpg",
            "userId": "110310482521799337507"
          }
        }
      },
      "cell_type": "code",
      "source": [
        "def one_hot_encode(x):\n",
        "    \"\"\"\n",
        "    One hot encode a list of sample labels. Return a one-hot encoded vector for each label.\n",
        "    : x: List of sample Labels\n",
        "    : return: Numpy array of one-hot encoded labels\n",
        "    \"\"\"\n",
        "    # TODO: Implement Function\n",
        "    return np.eye(10)[x]\n",
        "\n",
        "\n",
        "\"\"\"\n",
        "DON'T MODIFY ANYTHING IN THIS CELL THAT IS BELOW THIS LINE\n",
        "\"\"\"\n",
        "tests.test_one_hot_encode(one_hot_encode)"
      ],
      "execution_count": 63,
      "outputs": [
        {
          "output_type": "stream",
          "text": [
            "Tests Passed\n"
          ],
          "name": "stdout"
        }
      ]
    },
    {
      "metadata": {
        "id": "BXnFOKuhL53W",
        "colab_type": "text"
      },
      "cell_type": "markdown",
      "source": [
        "### Randomize Data\n",
        "As you saw from exploring the data above, the order of the samples are randomized.  It doesn't hurt to randomize it again, but you don't need to for this dataset."
      ]
    },
    {
      "metadata": {
        "id": "ksbIWZ4dL53Y",
        "colab_type": "text"
      },
      "cell_type": "markdown",
      "source": [
        "## Preprocess all the data and save it\n",
        "Running the code cell below will preprocess all the CIFAR-10 data and save it to file. The code below also uses 10% of the training data for validation."
      ]
    },
    {
      "metadata": {
        "id": "cnCGR3PQL53Y",
        "colab_type": "code",
        "colab": {
          "autoexec": {
            "startup": false,
            "wait_interval": 0
          }
        }
      },
      "cell_type": "code",
      "source": [
        "\"\"\"\n",
        "DON'T MODIFY ANYTHING IN THIS CELL\n",
        "\"\"\"\n",
        "# Preprocess Training, Validation, and Testing Data\n",
        "helper.preprocess_and_save_data(cifar10_dataset_folder_path, normalize, one_hot_encode)"
      ],
      "execution_count": 0,
      "outputs": []
    },
    {
      "metadata": {
        "id": "0YCTPo9oL53b",
        "colab_type": "text"
      },
      "cell_type": "markdown",
      "source": [
        "# Check Point\n",
        "This is your first checkpoint.  If you ever decide to come back to this notebook or have to restart the notebook, you can start from here.  The preprocessed data has been saved to disk."
      ]
    },
    {
      "metadata": {
        "id": "Vi4YDaTNL53e",
        "colab_type": "code",
        "colab": {
          "autoexec": {
            "startup": false,
            "wait_interval": 0
          }
        }
      },
      "cell_type": "code",
      "source": [
        "\"\"\"\n",
        "DON'T MODIFY ANYTHING IN THIS CELL\n",
        "\"\"\"\n",
        "import pickle\n",
        "import problem_unittests as tests\n",
        "import helper\n",
        "\n",
        "# Load the Preprocessed Validation data\n",
        "valid_features, valid_labels = pickle.load(open('preprocess_validation.p', mode='rb'))"
      ],
      "execution_count": 0,
      "outputs": []
    },
    {
      "metadata": {
        "id": "LIfTX_5AL53h",
        "colab_type": "text"
      },
      "cell_type": "markdown",
      "source": [
        "## Build the network\n",
        "For the neural network, you'll build each layer into a function.  Most of the code you've seen has been outside of functions. To test your code more thoroughly, we require that you put each layer in a function.  This allows us to give you better feedback and test for simple mistakes using our unittests before you submit your project.\n",
        "\n",
        ">**Note:** If you're finding it hard to dedicate enough time for this course each week, we've provided a small shortcut to this part of the project. In the next couple of problems, you'll have the option to use classes from the [TensorFlow Layers](https://www.tensorflow.org/api_docs/python/tf/layers) or [TensorFlow Layers (contrib)](https://www.tensorflow.org/api_guides/python/contrib.layers) packages to build each layer, except the layers you build in the \"Convolutional and Max Pooling Layer\" section.  TF Layers is similar to Keras's and TFLearn's abstraction to layers, so it's easy to pickup.\n",
        "\n",
        ">However, if you would like to get the most out of this course, try to solve all the problems _without_ using anything from the TF Layers packages. You **can** still use classes from other packages that happen to have the same name as ones you find in TF Layers! For example, instead of using the TF Layers version of the `conv2d` class, [tf.layers.conv2d](https://www.tensorflow.org/api_docs/python/tf/layers/conv2d), you would want to use the TF Neural Network version of `conv2d`, [tf.nn.conv2d](https://www.tensorflow.org/api_docs/python/tf/nn/conv2d). \n",
        "\n",
        "Let's begin!\n",
        "\n",
        "### Input\n",
        "The neural network needs to read the image data, one-hot encoded labels, and dropout keep probability. Implement the following functions\n",
        "* Implement `neural_net_image_input`\n",
        " * Return a [TF Placeholder](https://www.tensorflow.org/api_docs/python/tf/placeholder)\n",
        " * Set the shape using `image_shape` with batch size set to `None`.\n",
        " * Name the TensorFlow placeholder \"x\" using the TensorFlow `name` parameter in the [TF Placeholder](https://www.tensorflow.org/api_docs/python/tf/placeholder).\n",
        "* Implement `neural_net_label_input`\n",
        " * Return a [TF Placeholder](https://www.tensorflow.org/api_docs/python/tf/placeholder)\n",
        " * Set the shape using `n_classes` with batch size set to `None`.\n",
        " * Name the TensorFlow placeholder \"y\" using the TensorFlow `name` parameter in the [TF Placeholder](https://www.tensorflow.org/api_docs/python/tf/placeholder).\n",
        "* Implement `neural_net_keep_prob_input`\n",
        " * Return a [TF Placeholder](https://www.tensorflow.org/api_docs/python/tf/placeholder) for dropout keep probability.\n",
        " * Name the TensorFlow placeholder \"keep_prob\" using the TensorFlow `name` parameter in the [TF Placeholder](https://www.tensorflow.org/api_docs/python/tf/placeholder).\n",
        "\n",
        "These names will be used at the end of the project to load your saved model.\n",
        "\n",
        "Note: `None` for shapes in TensorFlow allow for a dynamic size."
      ]
    },
    {
      "metadata": {
        "id": "ne-g2pG4L53i",
        "colab_type": "code",
        "colab": {
          "autoexec": {
            "startup": false,
            "wait_interval": 0
          },
          "output_extras": [
            {
              "item_id": 1
            }
          ],
          "base_uri": "https://localhost:8080/",
          "height": 68
        },
        "outputId": "53518ce5-34f2-4727-a1af-28e496f62ca7",
        "executionInfo": {
          "status": "ok",
          "timestamp": 1520878270129,
          "user_tz": 180,
          "elapsed": 498,
          "user": {
            "displayName": "John Theo",
            "photoUrl": "//lh6.googleusercontent.com/-fECaVwQa6JE/AAAAAAAAAAI/AAAAAAAAFFc/W-idqhaMJgQ/s50-c-k-no/photo.jpg",
            "userId": "110310482521799337507"
          }
        }
      },
      "cell_type": "code",
      "source": [
        "import tensorflow as tf\n",
        "\n",
        "def neural_net_image_input(image_shape):\n",
        "    \"\"\"\n",
        "    Return a Tensor for a batch of image input\n",
        "    : image_shape: Shape of the images\n",
        "    : return: Tensor for image input.\n",
        "    \"\"\"\n",
        "    # TODO: Implement Function\n",
        "    #Batch size is the first element in the shape passed to the placeholder\n",
        "    return tf.placeholder(\n",
        "        tf.float32,\n",
        "        [None, image_shape[0], image_shape[1], 3],\n",
        "        name='x'\n",
        "    )\n",
        "\n",
        "\n",
        "def neural_net_label_input(n_classes):\n",
        "    \"\"\"\n",
        "    Return a Tensor for a batch of label input\n",
        "    : n_classes: Number of classes\n",
        "    : return: Tensor for label input.\n",
        "    \"\"\"\n",
        "    # TODO: Implement Function\n",
        "    return tf.placeholder(\n",
        "        tf.float32,\n",
        "        [None,n_classes],\n",
        "        name='y'\n",
        "    )\n",
        "\n",
        "\n",
        "def neural_net_keep_prob_input():\n",
        "    \"\"\"\n",
        "    Return a Tensor for keep probability\n",
        "    : return: Tensor for keep probability.\n",
        "    \"\"\"\n",
        "    # TODO: Implement Function\n",
        "    return tf.placeholder(\n",
        "        tf.float32,\n",
        "        name='keep_prob'\n",
        "    )\n",
        "\n",
        "\n",
        "\"\"\"\n",
        "DON'T MODIFY ANYTHING IN THIS CELL THAT IS BELOW THIS LINE\n",
        "\"\"\"\n",
        "tf.reset_default_graph()\n",
        "tests.test_nn_image_inputs(neural_net_image_input)\n",
        "tests.test_nn_label_inputs(neural_net_label_input)\n",
        "tests.test_nn_keep_prob_inputs(neural_net_keep_prob_input)"
      ],
      "execution_count": 66,
      "outputs": [
        {
          "output_type": "stream",
          "text": [
            "Image Input Tests Passed.\n",
            "Label Input Tests Passed.\n",
            "Keep Prob Tests Passed.\n"
          ],
          "name": "stdout"
        }
      ]
    },
    {
      "metadata": {
        "id": "cFmx6mdWL53q",
        "colab_type": "text"
      },
      "cell_type": "markdown",
      "source": [
        "### Convolution and Max Pooling Layer\n",
        "Convolution layers have a lot of success with images. For this code cell, you should implement the function `conv2d_maxpool` to apply convolution then max pooling:\n",
        "* Create the weight and bias using `conv_ksize`, `conv_num_outputs` and the shape of `x_tensor`.\n",
        "* Apply a convolution to `x_tensor` using weight and `conv_strides`.\n",
        " * We recommend you use same padding, but you're welcome to use any padding.\n",
        "* Add bias\n",
        "* Add a nonlinear activation to the convolution.\n",
        "* Apply Max Pooling using `pool_ksize` and `pool_strides`.\n",
        " * We recommend you use same padding, but you're welcome to use any padding.\n",
        "\n",
        "**Note:** You **can't** use [TensorFlow Layers](https://www.tensorflow.org/api_docs/python/tf/layers) or [TensorFlow Layers (contrib)](https://www.tensorflow.org/api_guides/python/contrib.layers) for **this** layer, but you can still use TensorFlow's [Neural Network](https://www.tensorflow.org/api_docs/python/tf/nn) package. You may still use the shortcut option for all the **other** layers."
      ]
    },
    {
      "metadata": {
        "id": "QEz1g-9cL53r",
        "colab_type": "code",
        "colab": {
          "autoexec": {
            "startup": false,
            "wait_interval": 0
          },
          "output_extras": [
            {
              "item_id": 1
            }
          ],
          "base_uri": "https://localhost:8080/",
          "height": 34
        },
        "outputId": "04da27d5-b475-4170-d5c8-2160fa2091c3",
        "executionInfo": {
          "status": "ok",
          "timestamp": 1520878270762,
          "user_tz": 180,
          "elapsed": 477,
          "user": {
            "displayName": "John Theo",
            "photoUrl": "//lh6.googleusercontent.com/-fECaVwQa6JE/AAAAAAAAAAI/AAAAAAAAFFc/W-idqhaMJgQ/s50-c-k-no/photo.jpg",
            "userId": "110310482521799337507"
          }
        }
      },
      "cell_type": "code",
      "source": [
        "def conv2d_maxpool(x_tensor, conv_num_outputs, conv_ksize, conv_strides, pool_ksize, pool_strides):\n",
        "    \"\"\"\n",
        "    Apply convolution then max pooling to x_tensor\n",
        "    :param x_tensor: TensorFlow Tensor\n",
        "    :param conv_num_outputs: Number of outputs for the convolutional layer\n",
        "    :param conv_ksize: kernal size 2-D Tuple for the convolutional layer\n",
        "    :param conv_strides: Stride 2-D Tuple for convolution\n",
        "    :param pool_ksize: kernal size 2-D Tuple for pool\n",
        "    :param pool_strides: Stride 2-D Tuple for pool\n",
        "    : return: A tensor that represents convolution and max pooling of x_tensor\n",
        "    \"\"\"\n",
        "    image_height = x_tensor.shape[1]\n",
        "    image_width = x_tensor.shape[2]\n",
        "    color_channels = x_tensor.shape[3].value\n",
        "    conv_filter_height = conv_ksize[0] \n",
        "    conv_filter_width = conv_ksize[1]\n",
        "\n",
        "    F_W = tf.Variable(tf.truncated_normal([conv_filter_height,conv_filter_width,color_channels,conv_num_outputs]))\n",
        "    F_b = tf.Variable(tf.zeros(conv_num_outputs))\n",
        "    #Remember strides array has 4 values\n",
        "    #Convolution\n",
        "    conv = tf.nn.conv2d(input=x_tensor,\n",
        "                        filter=F_W, \n",
        "                        strides=[1,conv_strides[0],conv_strides[1],1], \n",
        "                        padding='SAME')\n",
        "    conv = tf.nn.bias_add(conv,F_b)\n",
        "    \n",
        "    #Activation\n",
        "    conv = tf.nn.relu(conv)\n",
        "    \n",
        "    #Remember strides and kernel arrays have 4 values\n",
        "    #Max_Pool\n",
        "    conv = tf.nn.max_pool(conv, \n",
        "                          ksize=[1, pool_ksize[0], pool_ksize[1], 1], \n",
        "                          strides=[1, pool_strides[0], pool_strides[1], 1], \n",
        "                          padding='SAME')\n",
        "    return conv \n",
        "\n",
        "\n",
        "\"\"\"\n",
        "DON'T MODIFY ANYTHING IN THIS CELL THAT IS BELOW THIS LINE\n",
        "\"\"\"\n",
        "tests.test_con_pool(conv2d_maxpool)"
      ],
      "execution_count": 67,
      "outputs": [
        {
          "output_type": "stream",
          "text": [
            "Tests Passed\n"
          ],
          "name": "stdout"
        }
      ]
    },
    {
      "metadata": {
        "id": "Cyp9ngXqL53x",
        "colab_type": "text"
      },
      "cell_type": "markdown",
      "source": [
        "### Flatten Layer\n",
        "Implement the `flatten` function to change the dimension of `x_tensor` from a 4-D tensor to a 2-D tensor.  The output should be the shape (*Batch Size*, *Flattened Image Size*). Shortcut option: you can use classes from the [TensorFlow Layers](https://www.tensorflow.org/api_docs/python/tf/layers) or [TensorFlow Layers (contrib)](https://www.tensorflow.org/api_guides/python/contrib.layers) packages for this layer. For more of a challenge, only use other TensorFlow packages."
      ]
    },
    {
      "metadata": {
        "id": "4DQkfboCL53y",
        "colab_type": "code",
        "colab": {
          "autoexec": {
            "startup": false,
            "wait_interval": 0
          },
          "output_extras": [
            {
              "item_id": 1
            }
          ],
          "base_uri": "https://localhost:8080/",
          "height": 34
        },
        "outputId": "4fd40f69-c7e5-4ca2-bc3f-da4de18fd630",
        "executionInfo": {
          "status": "ok",
          "timestamp": 1520878271460,
          "user_tz": 180,
          "elapsed": 543,
          "user": {
            "displayName": "John Theo",
            "photoUrl": "//lh6.googleusercontent.com/-fECaVwQa6JE/AAAAAAAAAAI/AAAAAAAAFFc/W-idqhaMJgQ/s50-c-k-no/photo.jpg",
            "userId": "110310482521799337507"
          }
        }
      },
      "cell_type": "code",
      "source": [
        "def flatten(x_tensor):\n",
        "    \"\"\"\n",
        "    Flatten x_tensor to (Batch Size, Flattened Image Size)\n",
        "    : x_tensor: A tensor of size (Batch Size, ...), where ... are the image dimensions.\n",
        "    : return: A tensor of size (Batch Size, Flattened Image Size).\n",
        "    \"\"\"\n",
        "    # TODO: Implement Function\n",
        "    return tf.contrib.layers.flatten(x_tensor)\n",
        "\n",
        "\n",
        "\"\"\"\n",
        "DON'T MODIFY ANYTHING IN THIS CELL THAT IS BELOW THIS LINE\n",
        "\"\"\"\n",
        "tests.test_flatten(flatten)"
      ],
      "execution_count": 68,
      "outputs": [
        {
          "output_type": "stream",
          "text": [
            "Tests Passed\n"
          ],
          "name": "stdout"
        }
      ]
    },
    {
      "metadata": {
        "id": "25tIMPLpL531",
        "colab_type": "text"
      },
      "cell_type": "markdown",
      "source": [
        "### Fully-Connected Layer\n",
        "Implement the `fully_conn` function to apply a fully connected layer to `x_tensor` with the shape (*Batch Size*, *num_outputs*). Shortcut option: you can use classes from the [TensorFlow Layers](https://www.tensorflow.org/api_docs/python/tf/layers) or [TensorFlow Layers (contrib)](https://www.tensorflow.org/api_guides/python/contrib.layers) packages for this layer. For more of a challenge, only use other TensorFlow packages."
      ]
    },
    {
      "metadata": {
        "id": "Xqpd0_QAL532",
        "colab_type": "code",
        "colab": {
          "autoexec": {
            "startup": false,
            "wait_interval": 0
          },
          "output_extras": [
            {
              "item_id": 1
            }
          ],
          "base_uri": "https://localhost:8080/",
          "height": 34
        },
        "outputId": "92cd07a2-d9a2-4d8b-d0cf-fdfc2292f88d",
        "executionInfo": {
          "status": "ok",
          "timestamp": 1520878272102,
          "user_tz": 180,
          "elapsed": 480,
          "user": {
            "displayName": "John Theo",
            "photoUrl": "//lh6.googleusercontent.com/-fECaVwQa6JE/AAAAAAAAAAI/AAAAAAAAFFc/W-idqhaMJgQ/s50-c-k-no/photo.jpg",
            "userId": "110310482521799337507"
          }
        }
      },
      "cell_type": "code",
      "source": [
        "def fully_conn(x_tensor, num_outputs):\n",
        "    \"\"\"\n",
        "    Apply a fully connected layer to x_tensor using weight and bias\n",
        "    : x_tensor: A 2-D tensor where the first dimension is batch size.\n",
        "    : num_outputs: The number of output that the new tensor should be.\n",
        "    : return: A 2-D tensor where the second dimension is num_outputs.\n",
        "    \"\"\"\n",
        "    # TODO: Implement Function\n",
        "    #Creating the weights and bias\n",
        "    W = tf.Variable(tf.truncated_normal([x_tensor.shape[1].value, num_outputs]))\n",
        "    b = tf.Variable(tf.truncated_normal([num_outputs,]))\n",
        "\n",
        "    #Multiplying\n",
        "    layer = tf.matmul(x_tensor, W)\n",
        "\n",
        "    #Bias\n",
        "    layer = tf.nn.bias_add(layer, b)\n",
        "\n",
        "    #Relu\n",
        "    layer = tf.nn.relu(layer)\n",
        "   \n",
        "    return layer\n",
        "\n",
        "\n",
        "\"\"\"\n",
        "DON'T MODIFY ANYTHING IN THIS CELL THAT IS BELOW THIS LINE\n",
        "\"\"\"\n",
        "tests.test_fully_conn(fully_conn)"
      ],
      "execution_count": 69,
      "outputs": [
        {
          "output_type": "stream",
          "text": [
            "Tests Passed\n"
          ],
          "name": "stdout"
        }
      ]
    },
    {
      "metadata": {
        "id": "OXGEUEuuL535",
        "colab_type": "text"
      },
      "cell_type": "markdown",
      "source": [
        "### Output Layer\n",
        "Implement the `output` function to apply a fully connected layer to `x_tensor` with the shape (*Batch Size*, *num_outputs*). Shortcut option: you can use classes from the [TensorFlow Layers](https://www.tensorflow.org/api_docs/python/tf/layers) or [TensorFlow Layers (contrib)](https://www.tensorflow.org/api_guides/python/contrib.layers) packages for this layer. For more of a challenge, only use other TensorFlow packages.\n",
        "\n",
        "**Note:** Activation, softmax, or cross entropy should **not** be applied to this."
      ]
    },
    {
      "metadata": {
        "id": "LzRDYihRL536",
        "colab_type": "code",
        "colab": {
          "autoexec": {
            "startup": false,
            "wait_interval": 0
          },
          "output_extras": [
            {
              "item_id": 1
            }
          ],
          "base_uri": "https://localhost:8080/",
          "height": 34
        },
        "outputId": "ebe08d99-70f9-41c1-f9dd-3e2abbed524d",
        "executionInfo": {
          "status": "ok",
          "timestamp": 1520878272799,
          "user_tz": 180,
          "elapsed": 491,
          "user": {
            "displayName": "John Theo",
            "photoUrl": "//lh6.googleusercontent.com/-fECaVwQa6JE/AAAAAAAAAAI/AAAAAAAAFFc/W-idqhaMJgQ/s50-c-k-no/photo.jpg",
            "userId": "110310482521799337507"
          }
        }
      },
      "cell_type": "code",
      "source": [
        "def output(x_tensor, num_outputs):\n",
        "    \"\"\"\n",
        "    Apply a output layer to x_tensor using weight and bias\n",
        "    : x_tensor: A 2-D tensor where the first dimension is batch size.\n",
        "    : num_outputs: The number of output that the new tensor should be.\n",
        "    : return: A 2-D tensor where the second dimension is num_outputs.\n",
        "    \"\"\"\n",
        "    # TODO: Implement Function\n",
        "    #SAME AS BEFORE\n",
        "    \n",
        "    #Creating the weights and bias\n",
        "    W = tf.Variable(tf.truncated_normal([x_tensor.shape[1].value, num_outputs]))\n",
        "    b = tf.Variable(tf.truncated_normal([num_outputs,]))\n",
        "\n",
        "    #Multiplying\n",
        "    output = tf.matmul(x_tensor, W)\n",
        "\n",
        "    #Bias\n",
        "    output = tf.add(output, b)\n",
        "\n",
        "    return output\n",
        "\n",
        "\n",
        "\"\"\"\n",
        "DON'T MODIFY ANYTHING IN THIS CELL THAT IS BELOW THIS LINE\n",
        "\"\"\"\n",
        "tests.test_output(output)"
      ],
      "execution_count": 70,
      "outputs": [
        {
          "output_type": "stream",
          "text": [
            "Tests Passed\n"
          ],
          "name": "stdout"
        }
      ]
    },
    {
      "metadata": {
        "id": "svRRbIzPL53-",
        "colab_type": "text"
      },
      "cell_type": "markdown",
      "source": [
        "### Create Convolutional Model\n",
        "Implement the function `conv_net` to create a convolutional neural network model. The function takes in a batch of images, `x`, and outputs logits.  Use the layers you created above to create this model:\n",
        "\n",
        "* Apply 1, 2, or 3 Convolution and Max Pool layers\n",
        "* Apply a Flatten Layer\n",
        "* Apply 1, 2, or 3 Fully Connected Layers\n",
        "* Apply an Output Layer\n",
        "* Return the output\n",
        "* Apply [TensorFlow's Dropout](https://www.tensorflow.org/api_docs/python/tf/nn/dropout) to one or more layers in the model using `keep_prob`. "
      ]
    },
    {
      "metadata": {
        "id": "6cat6d2QL53-",
        "colab_type": "code",
        "colab": {
          "autoexec": {
            "startup": false,
            "wait_interval": 0
          },
          "output_extras": [
            {
              "item_id": 1
            }
          ],
          "base_uri": "https://localhost:8080/",
          "height": 34
        },
        "outputId": "beb2ba9b-facb-4b71-b530-2bf3a291b6fa",
        "executionInfo": {
          "status": "ok",
          "timestamp": 1520885091687,
          "user_tz": 180,
          "elapsed": 1213,
          "user": {
            "displayName": "John Theo",
            "photoUrl": "//lh6.googleusercontent.com/-fECaVwQa6JE/AAAAAAAAAAI/AAAAAAAAFFc/W-idqhaMJgQ/s50-c-k-no/photo.jpg",
            "userId": "110310482521799337507"
          }
        }
      },
      "cell_type": "code",
      "source": [
        "def conv_net(x, keep_prob):\n",
        "    \"\"\"\n",
        "    Create a convolutional neural network model\n",
        "    : x: Placeholder tensor that holds image data.\n",
        "    : keep_prob: Placeholder tensor that hold dropout keep probability.\n",
        "    : return: Tensor that represents logits\n",
        "    \"\"\"\n",
        "    x_tensor = x\n",
        "    num_outputs = 10\n",
        "    \n",
        "    # TODO: Apply 1, 2, or 3 Convolution and Max Pool layers\n",
        "    #    Play around with different number of outputs, kernel size and stride\n",
        "    # Function Definition from Above:\n",
        "    #x_tensor = conv2d_maxpool(x_tensor, 128, [3,3], [1,1], [2,2], [2,2])\n",
        "    x_tensor = conv2d_maxpool(x_tensor, 256, [3,3], [1,1], [2,2], [2,2])\n",
        "    #x_tensor = tf.nn.dropout(x_tensor, keep_prob)\n",
        "    \n",
        "\n",
        "    # TODO: Apply a Flatten Layer\n",
        "    # Function Definition from Above:\n",
        "    x_tensor = flatten(x_tensor)\n",
        "    \n",
        "\n",
        "    # TODO: Apply 1, 2, or 3 Fully Connected Layers\n",
        "    #    Play around with different number of outputs\n",
        "    # Function Definition from Above:\n",
        "    x_tensor = fully_conn(x_tensor, 1024)\n",
        "    #x_tensor = tf.nn.dropout(x_tensor, keep_prob)\n",
        "    x_tensor = fully_conn(x_tensor, 1024)\n",
        "    #x_tensor = tf.nn.dropout(x_tensor, keep_prob)\n",
        "    \n",
        "    \n",
        "    # TODO: Apply an Output Layer\n",
        "    #    Set this to the number of classes\n",
        "    # Function Definition from Above:\n",
        "    x_tensor = output(x_tensor, num_outputs)\n",
        "    x_tensor = tf.nn.dropout(x_tensor, keep_prob)\n",
        "    \n",
        "    \n",
        "    # TODO: return output\n",
        "    return x_tensor\n",
        "\n",
        "\n",
        "\"\"\"\n",
        "DON'T MODIFY ANYTHING IN THIS CELL THAT IS BELOW THIS LINE\n",
        "\"\"\"\n",
        "\n",
        "##############################\n",
        "## Build the Neural Network ##\n",
        "##############################\n",
        "\n",
        "# Remove previous weights, bias, inputs, etc..\n",
        "tf.reset_default_graph()\n",
        "\n",
        "# Inputs\n",
        "x = neural_net_image_input((32, 32, 3))\n",
        "y = neural_net_label_input(10)\n",
        "keep_prob = neural_net_keep_prob_input()\n",
        "\n",
        "# Model\n",
        "logits = conv_net(x, keep_prob)\n",
        "\n",
        "# Name logits Tensor, so that is can be loaded from disk after training\n",
        "logits = tf.identity(logits, name='logits')\n",
        "\n",
        "# Loss and Optimizer\n",
        "cost = tf.reduce_mean(tf.nn.softmax_cross_entropy_with_logits(logits=logits, labels=y))\n",
        "optimizer = tf.train.AdamOptimizer().minimize(cost)\n",
        "\n",
        "# Accuracy\n",
        "correct_pred = tf.equal(tf.argmax(logits, 1), tf.argmax(y, 1))\n",
        "accuracy = tf.reduce_mean(tf.cast(correct_pred, tf.float32), name='accuracy')\n",
        "\n",
        "tests.test_conv_net(conv_net)"
      ],
      "execution_count": 119,
      "outputs": [
        {
          "output_type": "stream",
          "text": [
            "Neural Network Built!\n"
          ],
          "name": "stdout"
        }
      ]
    },
    {
      "metadata": {
        "id": "w_tPv2CYL54B",
        "colab_type": "text"
      },
      "cell_type": "markdown",
      "source": [
        "## Train the Neural Network\n",
        "### Single Optimization\n",
        "Implement the function `train_neural_network` to do a single optimization.  The optimization should use `optimizer` to optimize in `session` with a `feed_dict` of the following:\n",
        "* `x` for image input\n",
        "* `y` for labels\n",
        "* `keep_prob` for keep probability for dropout\n",
        "\n",
        "This function will be called for each batch, so `tf.global_variables_initializer()` has already been called.\n",
        "\n",
        "Note: Nothing needs to be returned. This function is only optimizing the neural network."
      ]
    },
    {
      "metadata": {
        "id": "m8g-cFvpL54C",
        "colab_type": "code",
        "colab": {
          "autoexec": {
            "startup": false,
            "wait_interval": 0
          },
          "output_extras": [
            {
              "item_id": 1
            }
          ],
          "base_uri": "https://localhost:8080/",
          "height": 34
        },
        "outputId": "1b8f9d00-acbe-4fcf-b53f-1954703fbb24",
        "executionInfo": {
          "status": "ok",
          "timestamp": 1520878274630,
          "user_tz": 180,
          "elapsed": 588,
          "user": {
            "displayName": "John Theo",
            "photoUrl": "//lh6.googleusercontent.com/-fECaVwQa6JE/AAAAAAAAAAI/AAAAAAAAFFc/W-idqhaMJgQ/s50-c-k-no/photo.jpg",
            "userId": "110310482521799337507"
          }
        }
      },
      "cell_type": "code",
      "source": [
        "def train_neural_network(session, optimizer, keep_probability, feature_batch, label_batch):\n",
        "    \"\"\"\n",
        "    Optimize the session on a batch of images and labels\n",
        "    : session: Current TensorFlow session\n",
        "    : optimizer: TensorFlow optimizer function\n",
        "    : keep_probability: keep probability\n",
        "    : feature_batch: Batch of Numpy image data\n",
        "    : label_batch: Batch of Numpy label data\n",
        "    \"\"\"\n",
        "    session.run(optimizer, feed_dict={x: feature_batch, y: label_batch, keep_prob: keep_probability})\n",
        "\n",
        "\n",
        "\"\"\"\n",
        "DON'T MODIFY ANYTHING IN THIS CELL THAT IS BELOW THIS LINE\n",
        "\"\"\"\n",
        "tests.test_train_nn(train_neural_network)"
      ],
      "execution_count": 72,
      "outputs": [
        {
          "output_type": "stream",
          "text": [
            "Tests Passed\n"
          ],
          "name": "stdout"
        }
      ]
    },
    {
      "metadata": {
        "id": "wWvDV8GgL54G",
        "colab_type": "text"
      },
      "cell_type": "markdown",
      "source": [
        "### Show Stats\n",
        "Implement the function `print_stats` to print loss and validation accuracy.  Use the global variables `valid_features` and `valid_labels` to calculate validation accuracy.  Use a keep probability of `1.0` to calculate the loss and validation accuracy."
      ]
    },
    {
      "metadata": {
        "id": "Y-9vlCBGL54G",
        "colab_type": "code",
        "colab": {
          "autoexec": {
            "startup": false,
            "wait_interval": 0
          }
        }
      },
      "cell_type": "code",
      "source": [
        "def print_stats(session, feature_batch, label_batch, cost, accuracy):\n",
        "    \"\"\"\n",
        "    Print information about loss and validation accuracy\n",
        "    : session: Current TensorFlow session\n",
        "    : feature_batch: Batch of Numpy image data\n",
        "    : label_batch: Batch of Numpy label data\n",
        "    : cost: TensorFlow cost function\n",
        "    : accuracy: TensorFlow accuracy function\n",
        "    \"\"\"\n",
        "    loss = session.run(cost,feed_dict={\n",
        "        x:feature_batch,\n",
        "        y:label_batch,\n",
        "        keep_prob:1.0,\n",
        "    })\n",
        "    accuracy = session.run(accuracy,feed_dict={\n",
        "        x:feature_batch,\n",
        "        y:label_batch,\n",
        "        keep_prob:1.0,\n",
        "    })\n",
        "    \n",
        "    print(\"Cost = {0} | Accuracy = {1}\".format(loss,accuracy))\n",
        "    "
      ],
      "execution_count": 0,
      "outputs": []
    },
    {
      "metadata": {
        "id": "SLL5hxtYL54I",
        "colab_type": "text"
      },
      "cell_type": "markdown",
      "source": [
        "### Hyperparameters\n",
        "Tune the following parameters:\n",
        "* Set `epochs` to the number of iterations until the network stops learning or start overfitting\n",
        "* Set `batch_size` to the highest number that your machine has memory for.  Most people set them to common sizes of memory:\n",
        " * 64\n",
        " * 128\n",
        " * 256\n",
        " * ...\n",
        "* Set `keep_probability` to the probability of keeping a node using dropout"
      ]
    },
    {
      "metadata": {
        "id": "DQoc9NAbL54J",
        "colab_type": "code",
        "colab": {
          "autoexec": {
            "startup": false,
            "wait_interval": 0
          }
        }
      },
      "cell_type": "code",
      "source": [
        "# TODO: Tune Parameters\n",
        "epochs = 50\n",
        "batch_size = 512\n",
        "keep_probability = 0.5"
      ],
      "execution_count": 0,
      "outputs": []
    },
    {
      "metadata": {
        "id": "ETd53ZQ1L54L",
        "colab_type": "text"
      },
      "cell_type": "markdown",
      "source": [
        "### Train on a Single CIFAR-10 Batch\n",
        "Instead of training the neural network on all the CIFAR-10 batches of data, let's use a single batch. This should save time while you iterate on the model to get a better accuracy.  Once the final validation accuracy is 50% or greater, run the model on all the data in the next section."
      ]
    },
    {
      "metadata": {
        "id": "wuEsnvcgL54M",
        "colab_type": "code",
        "colab": {
          "autoexec": {
            "startup": false,
            "wait_interval": 0
          },
          "output_extras": [
            {
              "item_id": 48
            },
            {
              "item_id": 51
            }
          ],
          "base_uri": "https://localhost:8080/",
          "height": 884
        },
        "outputId": "211ce79f-3bdf-47e8-de8a-73c8ec218ea2",
        "executionInfo": {
          "status": "ok",
          "timestamp": 1520886432028,
          "user_tz": 180,
          "elapsed": 263501,
          "user": {
            "displayName": "John Theo",
            "photoUrl": "//lh6.googleusercontent.com/-fECaVwQa6JE/AAAAAAAAAAI/AAAAAAAAFFc/W-idqhaMJgQ/s50-c-k-no/photo.jpg",
            "userId": "110310482521799337507"
          }
        }
      },
      "cell_type": "code",
      "source": [
        "\"\"\"\n",
        "DON'T MODIFY ANYTHING IN THIS CELL\n",
        "\"\"\"\n",
        "print('Checking the Training on a Single Batch...')\n",
        "with tf.Session() as sess:\n",
        "    # Initializing the variables\n",
        "    sess.run(tf.global_variables_initializer())\n",
        "    \n",
        "    # Training cycle\n",
        "    for epoch in range(epochs):\n",
        "        batch_i = 1\n",
        "        for batch_features, batch_labels in helper.load_preprocess_training_batch(batch_i, batch_size):\n",
        "            train_neural_network(sess, optimizer, keep_probability, batch_features, batch_labels)\n",
        "        print('Epoch {:>2}, CIFAR-10 Batch {}:  '.format(epoch + 1, batch_i), end='')\n",
        "        print_stats(sess, batch_features, batch_labels, cost, accuracy)"
      ],
      "execution_count": 124,
      "outputs": [
        {
          "output_type": "stream",
          "text": [
            "Checking the Training on a Single Batch...\n",
            "Epoch  1, CIFAR-10 Batch 1:  Cost = 56692.0390625 | Accuracy = 0.18581080436706543\n",
            "Epoch  2, CIFAR-10 Batch 1:  Cost = 34612.9296875 | Accuracy = 0.27702704071998596\n",
            "Epoch  3, CIFAR-10 Batch 1:  Cost = 25128.29296875 | Accuracy = 0.29054054617881775\n",
            "Epoch  4, CIFAR-10 Batch 1:  Cost = 20518.87890625 | Accuracy = 0.3378378450870514\n",
            "Epoch  5, CIFAR-10 Batch 1:  Cost = 17196.359375 | Accuracy = 0.38513514399528503\n",
            "Epoch  6, CIFAR-10 Batch 1:  Cost = 16130.009765625 | Accuracy = 0.3986486494541168\n",
            "Epoch  7, CIFAR-10 Batch 1:  Cost = 14591.0556640625 | Accuracy = 0.43918919563293457\n",
            "Epoch  8, CIFAR-10 Batch 1:  Cost = 12196.6923828125 | Accuracy = 0.48986485600471497\n",
            "Epoch  9, CIFAR-10 Batch 1:  Cost = 10591.0625 | Accuracy = 0.4797297418117523\n",
            "Epoch 10, CIFAR-10 Batch 1:  Cost = 8440.7744140625 | Accuracy = 0.5304054021835327\n",
            "Epoch 11, CIFAR-10 Batch 1:  Cost = 8782.078125 | Accuracy = 0.5405405163764954\n",
            "Epoch 12, CIFAR-10 Batch 1:  Cost = 8985.296875 | Accuracy = 0.5506756901741028\n",
            "Epoch 13, CIFAR-10 Batch 1:  Cost = 7402.67578125 | Accuracy = 0.5912162065505981\n",
            "Epoch 14, CIFAR-10 Batch 1:  Cost = 6830.72802734375 | Accuracy = 0.6013513803482056\n",
            "Epoch 15, CIFAR-10 Batch 1:  Cost = 4695.00146484375 | Accuracy = 0.6925675868988037\n",
            "Epoch 16, CIFAR-10 Batch 1:  Cost = 5638.7978515625 | Accuracy = 0.6520270109176636\n",
            "Epoch 17, CIFAR-10 Batch 1:  Cost = 4385.83251953125 | Accuracy = 0.6824324131011963\n",
            "Epoch 18, CIFAR-10 Batch 1:  Cost = 5737.25830078125 | Accuracy = 0.6520270109176636\n",
            "Epoch 19, CIFAR-10 Batch 1:  Cost = 5794.09814453125 | Accuracy = 0.6148648858070374\n",
            "Epoch 20, CIFAR-10 Batch 1:  Cost = 4045.991455078125 | Accuracy = 0.7263513803482056\n",
            "Epoch 21, CIFAR-10 Batch 1:  Cost = 4332.59521484375 | Accuracy = 0.6993243098258972\n",
            "Epoch 22, CIFAR-10 Batch 1:  Cost = 4879.7763671875 | Accuracy = 0.7027027010917664\n",
            "Epoch 23, CIFAR-10 Batch 1:  Cost = 3102.939697265625 | Accuracy = 0.7702702879905701\n",
            "Epoch 24, CIFAR-10 Batch 1:  Cost = 3884.63037109375 | Accuracy = 0.6959459185600281\n",
            "Epoch 25, CIFAR-10 Batch 1:  Cost = 4264.7607421875 | Accuracy = 0.7162162065505981\n",
            "Epoch 26, CIFAR-10 Batch 1:  Cost = 2026.1927490234375 | Accuracy = 0.8074324131011963\n",
            "Epoch 27, CIFAR-10 Batch 1:  Cost = 2044.5963134765625 | Accuracy = 0.7905405163764954\n",
            "Epoch 28, CIFAR-10 Batch 1:  Cost = 4055.983642578125 | Accuracy = 0.6959459185600281\n",
            "Epoch 29, CIFAR-10 Batch 1:  Cost = 1847.07666015625 | Accuracy = 0.8006756901741028\n",
            "Epoch 30, CIFAR-10 Batch 1:  Cost = 2911.01171875 | Accuracy = 0.7736486196517944\n",
            "Epoch 31, CIFAR-10 Batch 1:  Cost = 1817.4698486328125 | Accuracy = 0.8344594836235046\n",
            "Epoch 32, CIFAR-10 Batch 1:  Cost = 1798.607666015625 | Accuracy = 0.8040540814399719\n",
            "Epoch 33, CIFAR-10 Batch 1:  Cost = 2168.989501953125 | Accuracy = 0.8006756901741028\n",
            "Epoch 34, CIFAR-10 Batch 1:  Cost = 2842.93115234375 | Accuracy = 0.7635135054588318\n",
            "Epoch 35, CIFAR-10 Batch 1:  Cost = 2795.60986328125 | Accuracy = 0.7770270109176636\n",
            "Epoch 36, CIFAR-10 Batch 1:  Cost = 1924.501953125 | Accuracy = 0.875\n",
            "Epoch 37, CIFAR-10 Batch 1:  Cost = 1745.697265625 | Accuracy = 0.8310810923576355\n",
            "Epoch 38, CIFAR-10 Batch 1:  Cost = 2260.1611328125 | Accuracy = 0.7702702879905701\n",
            "Epoch 39, CIFAR-10 Batch 1:  Cost = 861.73876953125 | Accuracy = 0.9020270109176636\n",
            "Epoch 40, CIFAR-10 Batch 1:  Cost = 897.9763793945312 | Accuracy = 0.8851351141929626\n",
            "Epoch 41, CIFAR-10 Batch 1:  Cost = 913.1270141601562 | Accuracy = 0.8986486196517944\n",
            "Epoch 42, CIFAR-10 Batch 1:  Cost = 922.3901977539062 | Accuracy = 0.8783783912658691\n",
            "Epoch 43, CIFAR-10 Batch 1:  Cost = 1388.626953125 | Accuracy = 0.8277027010917664\n",
            "Epoch 44, CIFAR-10 Batch 1:  Cost = 1541.4564208984375 | Accuracy = 0.8310810923576355\n",
            "Epoch 45, CIFAR-10 Batch 1:  Cost = 1101.589111328125 | Accuracy = 0.8817567825317383\n",
            "Epoch 46, CIFAR-10 Batch 1:  Cost = 965.6517333984375 | Accuracy = 0.8817567825317383\n",
            "Epoch 47, CIFAR-10 Batch 1:  Cost = 1740.249755859375 | Accuracy = 0.8445945978164673\n"
          ],
          "name": "stdout"
        },
        {
          "output_type": "stream",
          "text": [
            "Epoch 48, CIFAR-10 Batch 1:  Cost = 1198.684814453125 | Accuracy = 0.8682432174682617\n",
            "Epoch 49, CIFAR-10 Batch 1:  Cost = 1135.142333984375 | Accuracy = 0.8851351141929626\n",
            "Epoch 50, CIFAR-10 Batch 1:  Cost = 1386.563232421875 | Accuracy = 0.8479729890823364\n"
          ],
          "name": "stdout"
        }
      ]
    },
    {
      "metadata": {
        "id": "FN_2oP6DL54P",
        "colab_type": "text"
      },
      "cell_type": "markdown",
      "source": [
        "### Fully Train the Model\n",
        "Now that you got a good accuracy with a single CIFAR-10 batch, try it with all five batches."
      ]
    },
    {
      "metadata": {
        "id": "TtjYbk0-L54Q",
        "colab_type": "code",
        "colab": {
          "autoexec": {
            "startup": false,
            "wait_interval": 0
          },
          "output_extras": [
            {
              "item_id": 49
            },
            {
              "item_id": 97
            },
            {
              "item_id": 144
            },
            {
              "item_id": 191
            },
            {
              "item_id": 238
            },
            {
              "item_id": 251
            }
          ],
          "base_uri": "https://localhost:8080/",
          "height": 4284
        },
        "outputId": "d6c2517f-7ca0-44a7-a556-f328d72170a1",
        "executionInfo": {
          "status": "ok",
          "timestamp": 1520887812763,
          "user_tz": 180,
          "elapsed": 1315848,
          "user": {
            "displayName": "John Theo",
            "photoUrl": "//lh6.googleusercontent.com/-fECaVwQa6JE/AAAAAAAAAAI/AAAAAAAAFFc/W-idqhaMJgQ/s50-c-k-no/photo.jpg",
            "userId": "110310482521799337507"
          }
        }
      },
      "cell_type": "code",
      "source": [
        "\"\"\"\n",
        "DON'T MODIFY ANYTHING IN THIS CELL\n",
        "\"\"\"\n",
        "save_model_path = './image_classification'\n",
        "\n",
        "print('Training...')\n",
        "with tf.Session() as sess:\n",
        "    # Initializing the variables\n",
        "    sess.run(tf.global_variables_initializer())\n",
        "    \n",
        "    # Training cycle\n",
        "    for epoch in range(epochs):\n",
        "        # Loop over all batches\n",
        "        n_batches = 5\n",
        "        for batch_i in range(1, n_batches + 1):\n",
        "            for batch_features, batch_labels in helper.load_preprocess_training_batch(batch_i, batch_size):\n",
        "                train_neural_network(sess, optimizer, keep_probability, batch_features, batch_labels)\n",
        "            print('Epoch {:>2}, CIFAR-10 Batch {}:  '.format(epoch + 1, batch_i), end='')\n",
        "            print_stats(sess, batch_features, batch_labels, cost, accuracy)\n",
        "            \n",
        "    # Save Model\n",
        "    saver = tf.train.Saver()\n",
        "    save_path = saver.save(sess, save_model_path)"
      ],
      "execution_count": 125,
      "outputs": [
        {
          "output_type": "stream",
          "text": [
            "Training...\n",
            "Epoch  1, CIFAR-10 Batch 1:  Cost = 58924.71484375 | Accuracy = 0.21621622145175934\n",
            "Epoch  1, CIFAR-10 Batch 2:  Cost = 29689.982421875 | Accuracy = 0.25337839126586914\n",
            "Epoch  1, CIFAR-10 Batch 3:  Cost = 23960.08203125 | Accuracy = 0.25\n",
            "Epoch  1, CIFAR-10 Batch 4:  Cost = 20618.52734375 | Accuracy = 0.31418919563293457\n",
            "Epoch  1, CIFAR-10 Batch 5:  Cost = 22141.25390625 | Accuracy = 0.31081080436706543\n",
            "Epoch  2, CIFAR-10 Batch 1:  Cost = 20404.5078125 | Accuracy = 0.2702702581882477\n",
            "Epoch  2, CIFAR-10 Batch 2:  Cost = 16342.763671875 | Accuracy = 0.36486485600471497\n",
            "Epoch  2, CIFAR-10 Batch 3:  Cost = 13887.0751953125 | Accuracy = 0.3682432472705841\n",
            "Epoch  2, CIFAR-10 Batch 4:  Cost = 14342.75 | Accuracy = 0.3513513505458832\n",
            "Epoch  2, CIFAR-10 Batch 5:  Cost = 15882.837890625 | Accuracy = 0.32770270109176636\n",
            "Epoch  3, CIFAR-10 Batch 1:  Cost = 15378.4677734375 | Accuracy = 0.30405405163764954\n",
            "Epoch  3, CIFAR-10 Batch 2:  Cost = 13127.0830078125 | Accuracy = 0.3918918967247009\n",
            "Epoch  3, CIFAR-10 Batch 3:  Cost = 9517.5634765625 | Accuracy = 0.4324324429035187\n",
            "Epoch  3, CIFAR-10 Batch 4:  Cost = 8784.18359375 | Accuracy = 0.4324324429035187\n",
            "Epoch  3, CIFAR-10 Batch 5:  Cost = 9739.275390625 | Accuracy = 0.375\n",
            "Epoch  4, CIFAR-10 Batch 1:  Cost = 11095.947265625 | Accuracy = 0.33445945382118225\n",
            "Epoch  4, CIFAR-10 Batch 2:  Cost = 7831.7734375 | Accuracy = 0.4797297418117523\n",
            "Epoch  4, CIFAR-10 Batch 3:  Cost = 8688.0224609375 | Accuracy = 0.4831081032752991\n",
            "Epoch  4, CIFAR-10 Batch 4:  Cost = 7894.01513671875 | Accuracy = 0.4831081032752991\n",
            "Epoch  4, CIFAR-10 Batch 5:  Cost = 8777.3017578125 | Accuracy = 0.42229729890823364\n",
            "Epoch  5, CIFAR-10 Batch 1:  Cost = 10389.314453125 | Accuracy = 0.42229729890823364\n",
            "Epoch  5, CIFAR-10 Batch 2:  Cost = 7296.34814453125 | Accuracy = 0.4831081032752991\n",
            "Epoch  5, CIFAR-10 Batch 3:  Cost = 7519.7939453125 | Accuracy = 0.4864864945411682\n",
            "Epoch  5, CIFAR-10 Batch 4:  Cost = 6590.7763671875 | Accuracy = 0.5067567825317383\n",
            "Epoch  5, CIFAR-10 Batch 5:  Cost = 8285.603515625 | Accuracy = 0.4324324429035187\n",
            "Epoch  6, CIFAR-10 Batch 1:  Cost = 9203.0126953125 | Accuracy = 0.45270270109176636\n",
            "Epoch  6, CIFAR-10 Batch 2:  Cost = 6096.376953125 | Accuracy = 0.5033783912658691\n",
            "Epoch  6, CIFAR-10 Batch 3:  Cost = 6676.169921875 | Accuracy = 0.5540540814399719\n",
            "Epoch  6, CIFAR-10 Batch 4:  Cost = 5938.26171875 | Accuracy = 0.5337837934494019\n",
            "Epoch  6, CIFAR-10 Batch 5:  Cost = 7446.0361328125 | Accuracy = 0.4831081032752991\n",
            "Epoch  7, CIFAR-10 Batch 1:  Cost = 7936.1982421875 | Accuracy = 0.4425675570964813\n",
            "Epoch  7, CIFAR-10 Batch 2:  Cost = 6225.25244140625 | Accuracy = 0.5337837934494019\n",
            "Epoch  7, CIFAR-10 Batch 3:  Cost = 5487.35888671875 | Accuracy = 0.537162184715271\n",
            "Epoch  7, CIFAR-10 Batch 4:  Cost = 4978.8232421875 | Accuracy = 0.5912162065505981\n",
            "Epoch  7, CIFAR-10 Batch 5:  Cost = 5137.75146484375 | Accuracy = 0.48986485600471497\n",
            "Epoch  8, CIFAR-10 Batch 1:  Cost = 5872.77978515625 | Accuracy = 0.5101351141929626\n",
            "Epoch  8, CIFAR-10 Batch 2:  Cost = 4453.94921875 | Accuracy = 0.5777027010917664\n",
            "Epoch  8, CIFAR-10 Batch 3:  Cost = 5873.2890625 | Accuracy = 0.5270270109176636\n",
            "Epoch  8, CIFAR-10 Batch 4:  Cost = 5857.27880859375 | Accuracy = 0.5472972989082336\n",
            "Epoch  8, CIFAR-10 Batch 5:  Cost = 4739.23193359375 | Accuracy = 0.49662160873413086\n",
            "Epoch  9, CIFAR-10 Batch 1:  Cost = 6248.517578125 | Accuracy = 0.5033783912658691\n",
            "Epoch  9, CIFAR-10 Batch 2:  Cost = 4686.89111328125 | Accuracy = 0.4864864945411682\n",
            "Epoch  9, CIFAR-10 Batch 3:  Cost = 3519.43603515625 | Accuracy = 0.6081081032752991\n",
            "Epoch  9, CIFAR-10 Batch 4:  Cost = 5033.4912109375 | Accuracy = 0.5844594836235046\n",
            "Epoch  9, CIFAR-10 Batch 5:  Cost = 4469.87353515625 | Accuracy = 0.5270270109176636\n",
            "Epoch 10, CIFAR-10 Batch 1:  Cost = 5287.12353515625 | Accuracy = 0.5608108043670654\n",
            "Epoch 10, CIFAR-10 Batch 2:  Cost = 3985.508544921875 | Accuracy = 0.5912162065505981\n",
            "Epoch 10, CIFAR-10 Batch 3:  Cost = 4216.49853515625 | Accuracy = 0.587837815284729\n"
          ],
          "name": "stdout"
        },
        {
          "output_type": "stream",
          "text": [
            "Epoch 10, CIFAR-10 Batch 4:  Cost = 3544.655517578125 | Accuracy = 0.6047297120094299\n",
            "Epoch 10, CIFAR-10 Batch 5:  Cost = 3068.870849609375 | Accuracy = 0.6148648858070374\n",
            "Epoch 11, CIFAR-10 Batch 1:  Cost = 4204.88916015625 | Accuracy = 0.5810810923576355\n",
            "Epoch 11, CIFAR-10 Batch 2:  Cost = 3691.505859375 | Accuracy = 0.6216216087341309\n",
            "Epoch 11, CIFAR-10 Batch 3:  Cost = 4131.82568359375 | Accuracy = 0.6081081032752991\n",
            "Epoch 11, CIFAR-10 Batch 4:  Cost = 4110.92333984375 | Accuracy = 0.5912162065505981\n",
            "Epoch 11, CIFAR-10 Batch 5:  Cost = 3279.93994140625 | Accuracy = 0.587837815284729\n",
            "Epoch 12, CIFAR-10 Batch 1:  Cost = 5143.748046875 | Accuracy = 0.5675675868988037\n",
            "Epoch 12, CIFAR-10 Batch 2:  Cost = 2775.58984375 | Accuracy = 0.6418918967247009\n",
            "Epoch 12, CIFAR-10 Batch 3:  Cost = 3276.995849609375 | Accuracy = 0.5979729890823364\n",
            "Epoch 12, CIFAR-10 Batch 4:  Cost = 5340.71142578125 | Accuracy = 0.5945945978164673\n",
            "Epoch 12, CIFAR-10 Batch 5:  Cost = 3362.451416015625 | Accuracy = 0.5472972989082336\n",
            "Epoch 13, CIFAR-10 Batch 1:  Cost = 5341.7080078125 | Accuracy = 0.5709459185600281\n",
            "Epoch 13, CIFAR-10 Batch 2:  Cost = 2831.305908203125 | Accuracy = 0.6520270109176636\n",
            "Epoch 13, CIFAR-10 Batch 3:  Cost = 2733.488525390625 | Accuracy = 0.6216216087341309\n",
            "Epoch 13, CIFAR-10 Batch 4:  Cost = 2934.239501953125 | Accuracy = 0.625\n",
            "Epoch 13, CIFAR-10 Batch 5:  Cost = 2193.737060546875 | Accuracy = 0.662162184715271\n",
            "Epoch 14, CIFAR-10 Batch 1:  Cost = 3825.17236328125 | Accuracy = 0.6182432174682617\n",
            "Epoch 14, CIFAR-10 Batch 2:  Cost = 4237.5654296875 | Accuracy = 0.6554054021835327\n",
            "Epoch 14, CIFAR-10 Batch 3:  Cost = 2340.99560546875 | Accuracy = 0.6959459185600281\n",
            "Epoch 14, CIFAR-10 Batch 4:  Cost = 4136.81005859375 | Accuracy = 0.5979729890823364\n",
            "Epoch 14, CIFAR-10 Batch 5:  Cost = 2600.861572265625 | Accuracy = 0.6554054021835327\n",
            "Epoch 15, CIFAR-10 Batch 1:  Cost = 3294.3701171875 | Accuracy = 0.6418918967247009\n",
            "Epoch 15, CIFAR-10 Batch 2:  Cost = 2022.7491455078125 | Accuracy = 0.7027027010917664\n",
            "Epoch 15, CIFAR-10 Batch 3:  Cost = 1845.582763671875 | Accuracy = 0.7027027010917664\n",
            "Epoch 15, CIFAR-10 Batch 4:  Cost = 2678.84716796875 | Accuracy = 0.662162184715271\n",
            "Epoch 15, CIFAR-10 Batch 5:  Cost = 4113.72509765625 | Accuracy = 0.5709459185600281\n",
            "Epoch 16, CIFAR-10 Batch 1:  Cost = 3193.494140625 | Accuracy = 0.6486486196517944\n",
            "Epoch 16, CIFAR-10 Batch 2:  Cost = 2115.7919921875 | Accuracy = 0.6959459185600281\n",
            "Epoch 16, CIFAR-10 Batch 3:  Cost = 2810.128662109375 | Accuracy = 0.6452702879905701\n",
            "Epoch 16, CIFAR-10 Batch 4:  Cost = 2213.34130859375 | Accuracy = 0.6858108043670654\n",
            "Epoch 16, CIFAR-10 Batch 5:  Cost = 2237.70166015625 | Accuracy = 0.6587837934494019\n",
            "Epoch 17, CIFAR-10 Batch 1:  Cost = 2604.944580078125 | Accuracy = 0.6689189076423645\n",
            "Epoch 17, CIFAR-10 Batch 2:  Cost = 2616.672119140625 | Accuracy = 0.7060810923576355\n",
            "Epoch 17, CIFAR-10 Batch 3:  Cost = 2567.06005859375 | Accuracy = 0.6689189076423645\n",
            "Epoch 17, CIFAR-10 Batch 4:  Cost = 2152.961669921875 | Accuracy = 0.6993243098258972\n",
            "Epoch 17, CIFAR-10 Batch 5:  Cost = 2855.396484375 | Accuracy = 0.6013513803482056\n",
            "Epoch 18, CIFAR-10 Batch 1:  Cost = 2666.830322265625 | Accuracy = 0.6756756901741028\n",
            "Epoch 18, CIFAR-10 Batch 2:  Cost = 1619.508056640625 | Accuracy = 0.7331081032752991\n",
            "Epoch 18, CIFAR-10 Batch 3:  Cost = 1754.9683837890625 | Accuracy = 0.7432432174682617\n",
            "Epoch 18, CIFAR-10 Batch 4:  Cost = 3056.92431640625 | Accuracy = 0.6891891956329346\n",
            "Epoch 18, CIFAR-10 Batch 5:  Cost = 2201.138916015625 | Accuracy = 0.6790540814399719\n",
            "Epoch 19, CIFAR-10 Batch 1:  Cost = 2317.412353515625 | Accuracy = 0.7094594836235046\n",
            "Epoch 19, CIFAR-10 Batch 2:  Cost = 1858.9959716796875 | Accuracy = 0.7162162065505981\n",
            "Epoch 19, CIFAR-10 Batch 3:  Cost = 2040.5855712890625 | Accuracy = 0.7027027010917664\n",
            "Epoch 19, CIFAR-10 Batch 4:  Cost = 2260.63818359375 | Accuracy = 0.7060810923576355\n",
            "Epoch 19, CIFAR-10 Batch 5:  Cost = 1520.46435546875 | Accuracy = 0.7229729890823364\n",
            "Epoch 20, CIFAR-10 Batch 1:  Cost = 1873.1292724609375 | Accuracy = 0.7398648858070374\n"
          ],
          "name": "stdout"
        },
        {
          "output_type": "stream",
          "text": [
            "Epoch 20, CIFAR-10 Batch 2:  Cost = 2294.16015625 | Accuracy = 0.7094594836235046\n",
            "Epoch 20, CIFAR-10 Batch 3:  Cost = 1220.4261474609375 | Accuracy = 0.7905405163764954\n",
            "Epoch 20, CIFAR-10 Batch 4:  Cost = 2017.2777099609375 | Accuracy = 0.7094594836235046\n",
            "Epoch 20, CIFAR-10 Batch 5:  Cost = 1362.911376953125 | Accuracy = 0.7398648858070374\n",
            "Epoch 21, CIFAR-10 Batch 1:  Cost = 1864.4957275390625 | Accuracy = 0.7297297120094299\n",
            "Epoch 21, CIFAR-10 Batch 2:  Cost = 2257.458251953125 | Accuracy = 0.7027027010917664\n",
            "Epoch 21, CIFAR-10 Batch 3:  Cost = 1529.7806396484375 | Accuracy = 0.7331081032752991\n",
            "Epoch 21, CIFAR-10 Batch 4:  Cost = 1268.29345703125 | Accuracy = 0.7770270109176636\n",
            "Epoch 21, CIFAR-10 Batch 5:  Cost = 1325.810791015625 | Accuracy = 0.7601351141929626\n",
            "Epoch 22, CIFAR-10 Batch 1:  Cost = 1796.02978515625 | Accuracy = 0.7195945978164673\n",
            "Epoch 22, CIFAR-10 Batch 2:  Cost = 1147.054931640625 | Accuracy = 0.7837837934494019\n",
            "Epoch 22, CIFAR-10 Batch 3:  Cost = 1105.3031005859375 | Accuracy = 0.7972972989082336\n",
            "Epoch 22, CIFAR-10 Batch 4:  Cost = 1396.3251953125 | Accuracy = 0.7567567825317383\n",
            "Epoch 22, CIFAR-10 Batch 5:  Cost = 1631.4742431640625 | Accuracy = 0.7229729890823364\n",
            "Epoch 23, CIFAR-10 Batch 1:  Cost = 1426.071533203125 | Accuracy = 0.7567567825317383\n",
            "Epoch 23, CIFAR-10 Batch 2:  Cost = 790.2680053710938 | Accuracy = 0.8277027010917664\n",
            "Epoch 23, CIFAR-10 Batch 3:  Cost = 1424.254638671875 | Accuracy = 0.7668918967247009\n",
            "Epoch 23, CIFAR-10 Batch 4:  Cost = 1337.2967529296875 | Accuracy = 0.8006756901741028\n",
            "Epoch 23, CIFAR-10 Batch 5:  Cost = 1707.267333984375 | Accuracy = 0.6925675868988037\n",
            "Epoch 24, CIFAR-10 Batch 1:  Cost = 1567.2144775390625 | Accuracy = 0.7432432174682617\n",
            "Epoch 24, CIFAR-10 Batch 2:  Cost = 2110.246337890625 | Accuracy = 0.6824324131011963\n",
            "Epoch 24, CIFAR-10 Batch 3:  Cost = 1128.3565673828125 | Accuracy = 0.7804054021835327\n",
            "Epoch 24, CIFAR-10 Batch 4:  Cost = 1099.2529296875 | Accuracy = 0.7736486196517944\n",
            "Epoch 24, CIFAR-10 Batch 5:  Cost = 1353.467041015625 | Accuracy = 0.75\n",
            "Epoch 25, CIFAR-10 Batch 1:  Cost = 1614.3599853515625 | Accuracy = 0.7364864945411682\n",
            "Epoch 25, CIFAR-10 Batch 2:  Cost = 1053.8538818359375 | Accuracy = 0.7736486196517944\n",
            "Epoch 25, CIFAR-10 Batch 3:  Cost = 1631.99609375 | Accuracy = 0.7364864945411682\n",
            "Epoch 25, CIFAR-10 Batch 4:  Cost = 1742.486328125 | Accuracy = 0.7567567825317383\n",
            "Epoch 25, CIFAR-10 Batch 5:  Cost = 1022.7510375976562 | Accuracy = 0.7770270109176636\n",
            "Epoch 26, CIFAR-10 Batch 1:  Cost = 1078.9364013671875 | Accuracy = 0.7905405163764954\n",
            "Epoch 26, CIFAR-10 Batch 2:  Cost = 1050.8428955078125 | Accuracy = 0.7635135054588318\n",
            "Epoch 26, CIFAR-10 Batch 3:  Cost = 2369.072265625 | Accuracy = 0.6858108043670654\n",
            "Epoch 26, CIFAR-10 Batch 4:  Cost = 2070.17236328125 | Accuracy = 0.7162162065505981\n",
            "Epoch 26, CIFAR-10 Batch 5:  Cost = 1123.229736328125 | Accuracy = 0.7533783912658691\n",
            "Epoch 27, CIFAR-10 Batch 1:  Cost = 1626.50634765625 | Accuracy = 0.7702702879905701\n",
            "Epoch 27, CIFAR-10 Batch 2:  Cost = 1020.6596069335938 | Accuracy = 0.787162184715271\n",
            "Epoch 27, CIFAR-10 Batch 3:  Cost = 1028.5911865234375 | Accuracy = 0.7837837934494019\n",
            "Epoch 27, CIFAR-10 Batch 4:  Cost = 1821.1834716796875 | Accuracy = 0.7331081032752991\n",
            "Epoch 27, CIFAR-10 Batch 5:  Cost = 1037.980712890625 | Accuracy = 0.7635135054588318\n",
            "Epoch 28, CIFAR-10 Batch 1:  Cost = 883.9661254882812 | Accuracy = 0.8344594836235046\n",
            "Epoch 28, CIFAR-10 Batch 2:  Cost = 984.7454833984375 | Accuracy = 0.7804054021835327\n",
            "Epoch 28, CIFAR-10 Batch 3:  Cost = 1173.6051025390625 | Accuracy = 0.7905405163764954\n",
            "Epoch 28, CIFAR-10 Batch 4:  Cost = 1221.8277587890625 | Accuracy = 0.7668918967247009\n",
            "Epoch 28, CIFAR-10 Batch 5:  Cost = 939.6161499023438 | Accuracy = 0.7635135054588318\n",
            "Epoch 29, CIFAR-10 Batch 1:  Cost = 964.0850830078125 | Accuracy = 0.8141891956329346\n",
            "Epoch 29, CIFAR-10 Batch 2:  Cost = 668.2214965820312 | Accuracy = 0.8412162065505981\n",
            "Epoch 29, CIFAR-10 Batch 3:  Cost = 718.3963012695312 | Accuracy = 0.8209459185600281\n"
          ],
          "name": "stdout"
        },
        {
          "output_type": "stream",
          "text": [
            "Epoch 29, CIFAR-10 Batch 4:  Cost = 1188.217529296875 | Accuracy = 0.7466216087341309\n",
            "Epoch 29, CIFAR-10 Batch 5:  Cost = 1027.5565185546875 | Accuracy = 0.7533783912658691\n",
            "Epoch 30, CIFAR-10 Batch 1:  Cost = 1169.720947265625 | Accuracy = 0.7804054021835327\n",
            "Epoch 30, CIFAR-10 Batch 2:  Cost = 916.1521606445312 | Accuracy = 0.7972972989082336\n",
            "Epoch 30, CIFAR-10 Batch 3:  Cost = 894.7509765625 | Accuracy = 0.8108108043670654\n",
            "Epoch 30, CIFAR-10 Batch 4:  Cost = 1322.164794921875 | Accuracy = 0.7702702879905701\n",
            "Epoch 30, CIFAR-10 Batch 5:  Cost = 800.3377075195312 | Accuracy = 0.7905405163764954\n",
            "Epoch 31, CIFAR-10 Batch 1:  Cost = 1066.2216796875 | Accuracy = 0.787162184715271\n",
            "Epoch 31, CIFAR-10 Batch 2:  Cost = 762.7618408203125 | Accuracy = 0.8412162065505981\n",
            "Epoch 31, CIFAR-10 Batch 3:  Cost = 1099.91455078125 | Accuracy = 0.787162184715271\n",
            "Epoch 31, CIFAR-10 Batch 4:  Cost = 973.6526489257812 | Accuracy = 0.7905405163764954\n",
            "Epoch 31, CIFAR-10 Batch 5:  Cost = 957.2586669921875 | Accuracy = 0.7905405163764954\n",
            "Epoch 32, CIFAR-10 Batch 1:  Cost = 1128.6558837890625 | Accuracy = 0.8108108043670654\n",
            "Epoch 32, CIFAR-10 Batch 2:  Cost = 795.0724487304688 | Accuracy = 0.8243243098258972\n",
            "Epoch 32, CIFAR-10 Batch 3:  Cost = 1074.9703369140625 | Accuracy = 0.7939189076423645\n",
            "Epoch 32, CIFAR-10 Batch 4:  Cost = 954.2052612304688 | Accuracy = 0.8175675868988037\n",
            "Epoch 32, CIFAR-10 Batch 5:  Cost = 1011.7692260742188 | Accuracy = 0.7939189076423645\n",
            "Epoch 33, CIFAR-10 Batch 1:  Cost = 928.8854370117188 | Accuracy = 0.8141891956329346\n",
            "Epoch 33, CIFAR-10 Batch 2:  Cost = 685.3259887695312 | Accuracy = 0.8479729890823364\n",
            "Epoch 33, CIFAR-10 Batch 3:  Cost = 1050.5162353515625 | Accuracy = 0.7972972989082336\n",
            "Epoch 33, CIFAR-10 Batch 4:  Cost = 666.5052490234375 | Accuracy = 0.8445945978164673\n",
            "Epoch 33, CIFAR-10 Batch 5:  Cost = 669.9342041015625 | Accuracy = 0.8108108043670654\n",
            "Epoch 34, CIFAR-10 Batch 1:  Cost = 806.3134765625 | Accuracy = 0.8344594836235046\n",
            "Epoch 34, CIFAR-10 Batch 2:  Cost = 700.4322509765625 | Accuracy = 0.8445945978164673\n",
            "Epoch 34, CIFAR-10 Batch 3:  Cost = 400.06561279296875 | Accuracy = 0.8716216087341309\n",
            "Epoch 34, CIFAR-10 Batch 4:  Cost = 528.7703247070312 | Accuracy = 0.8445945978164673\n",
            "Epoch 34, CIFAR-10 Batch 5:  Cost = 805.145263671875 | Accuracy = 0.8141891956329346\n",
            "Epoch 35, CIFAR-10 Batch 1:  Cost = 645.684814453125 | Accuracy = 0.8310810923576355\n",
            "Epoch 35, CIFAR-10 Batch 2:  Cost = 667.4228515625 | Accuracy = 0.8581081032752991\n",
            "Epoch 35, CIFAR-10 Batch 3:  Cost = 491.9527587890625 | Accuracy = 0.8682432174682617\n",
            "Epoch 35, CIFAR-10 Batch 4:  Cost = 496.3490905761719 | Accuracy = 0.8783783912658691\n",
            "Epoch 35, CIFAR-10 Batch 5:  Cost = 693.1248168945312 | Accuracy = 0.8581081032752991\n",
            "Epoch 36, CIFAR-10 Batch 1:  Cost = 794.8232421875 | Accuracy = 0.8614864945411682\n",
            "Epoch 36, CIFAR-10 Batch 2:  Cost = 580.4889526367188 | Accuracy = 0.8614864945411682\n",
            "Epoch 36, CIFAR-10 Batch 3:  Cost = 603.8693237304688 | Accuracy = 0.8513513803482056\n",
            "Epoch 36, CIFAR-10 Batch 4:  Cost = 512.196044921875 | Accuracy = 0.8682432174682617\n",
            "Epoch 36, CIFAR-10 Batch 5:  Cost = 658.1181030273438 | Accuracy = 0.8412162065505981\n",
            "Epoch 37, CIFAR-10 Batch 1:  Cost = 768.0447387695312 | Accuracy = 0.8310810923576355\n",
            "Epoch 37, CIFAR-10 Batch 2:  Cost = 489.7774353027344 | Accuracy = 0.8682432174682617\n",
            "Epoch 37, CIFAR-10 Batch 3:  Cost = 806.4589233398438 | Accuracy = 0.8108108043670654\n",
            "Epoch 37, CIFAR-10 Batch 4:  Cost = 857.6410522460938 | Accuracy = 0.8108108043670654\n",
            "Epoch 37, CIFAR-10 Batch 5:  Cost = 835.6763305664062 | Accuracy = 0.8141891956329346\n",
            "Epoch 38, CIFAR-10 Batch 1:  Cost = 757.4722290039062 | Accuracy = 0.8412162065505981\n",
            "Epoch 38, CIFAR-10 Batch 2:  Cost = 570.8763427734375 | Accuracy = 0.8614864945411682\n",
            "Epoch 38, CIFAR-10 Batch 3:  Cost = 555.2305908203125 | Accuracy = 0.8243243098258972\n",
            "Epoch 38, CIFAR-10 Batch 4:  Cost = 511.789794921875 | Accuracy = 0.8682432174682617\n",
            "Epoch 38, CIFAR-10 Batch 5:  Cost = 768.4251098632812 | Accuracy = 0.7905405163764954\n"
          ],
          "name": "stdout"
        },
        {
          "output_type": "stream",
          "text": [
            "Epoch 39, CIFAR-10 Batch 1:  Cost = 525.2631225585938 | Accuracy = 0.8783783912658691\n",
            "Epoch 39, CIFAR-10 Batch 2:  Cost = 636.556640625 | Accuracy = 0.8547297120094299\n",
            "Epoch 39, CIFAR-10 Batch 3:  Cost = 288.41326904296875 | Accuracy = 0.8885135054588318\n",
            "Epoch 39, CIFAR-10 Batch 4:  Cost = 553.9895629882812 | Accuracy = 0.837837815284729\n",
            "Epoch 39, CIFAR-10 Batch 5:  Cost = 842.0177612304688 | Accuracy = 0.8108108043670654\n",
            "Epoch 40, CIFAR-10 Batch 1:  Cost = 868.573486328125 | Accuracy = 0.8175675868988037\n",
            "Epoch 40, CIFAR-10 Batch 2:  Cost = 610.9283447265625 | Accuracy = 0.8547297120094299\n",
            "Epoch 40, CIFAR-10 Batch 3:  Cost = 398.3815612792969 | Accuracy = 0.8648648858070374\n",
            "Epoch 40, CIFAR-10 Batch 4:  Cost = 440.11700439453125 | Accuracy = 0.8648648858070374\n",
            "Epoch 40, CIFAR-10 Batch 5:  Cost = 502.14190673828125 | Accuracy = 0.8614864945411682\n",
            "Epoch 41, CIFAR-10 Batch 1:  Cost = 733.478759765625 | Accuracy = 0.837837815284729\n",
            "Epoch 41, CIFAR-10 Batch 2:  Cost = 428.4841003417969 | Accuracy = 0.8716216087341309\n",
            "Epoch 41, CIFAR-10 Batch 3:  Cost = 298.6428527832031 | Accuracy = 0.8817567825317383\n",
            "Epoch 41, CIFAR-10 Batch 4:  Cost = 356.89947509765625 | Accuracy = 0.875\n",
            "Epoch 41, CIFAR-10 Batch 5:  Cost = 724.5230712890625 | Accuracy = 0.8074324131011963\n",
            "Epoch 42, CIFAR-10 Batch 1:  Cost = 588.0283203125 | Accuracy = 0.8614864945411682\n",
            "Epoch 42, CIFAR-10 Batch 2:  Cost = 352.3680419921875 | Accuracy = 0.8716216087341309\n",
            "Epoch 42, CIFAR-10 Batch 3:  Cost = 247.4580535888672 | Accuracy = 0.9256756901741028\n",
            "Epoch 42, CIFAR-10 Batch 4:  Cost = 596.3814086914062 | Accuracy = 0.8581081032752991\n",
            "Epoch 42, CIFAR-10 Batch 5:  Cost = 525.6083374023438 | Accuracy = 0.8513513803482056\n",
            "Epoch 43, CIFAR-10 Batch 1:  Cost = 358.5686950683594 | Accuracy = 0.9020270109176636\n",
            "Epoch 43, CIFAR-10 Batch 2:  Cost = 303.24652099609375 | Accuracy = 0.8918918967247009\n",
            "Epoch 43, CIFAR-10 Batch 3:  Cost = 241.09115600585938 | Accuracy = 0.9290540814399719\n",
            "Epoch 43, CIFAR-10 Batch 4:  Cost = 558.7504272460938 | Accuracy = 0.8513513803482056\n",
            "Epoch 43, CIFAR-10 Batch 5:  Cost = 389.0213623046875 | Accuracy = 0.8682432174682617\n",
            "Epoch 44, CIFAR-10 Batch 1:  Cost = 392.45330810546875 | Accuracy = 0.9054054021835327\n",
            "Epoch 44, CIFAR-10 Batch 2:  Cost = 317.3995056152344 | Accuracy = 0.8885135054588318\n",
            "Epoch 44, CIFAR-10 Batch 3:  Cost = 183.30255126953125 | Accuracy = 0.9020270109176636\n",
            "Epoch 44, CIFAR-10 Batch 4:  Cost = 359.17913818359375 | Accuracy = 0.912162184715271\n",
            "Epoch 44, CIFAR-10 Batch 5:  Cost = 338.68890380859375 | Accuracy = 0.8986486196517944\n",
            "Epoch 45, CIFAR-10 Batch 1:  Cost = 566.18603515625 | Accuracy = 0.8648648858070374\n",
            "Epoch 45, CIFAR-10 Batch 2:  Cost = 331.2966613769531 | Accuracy = 0.8918918967247009\n",
            "Epoch 45, CIFAR-10 Batch 3:  Cost = 224.60076904296875 | Accuracy = 0.9054054021835327\n",
            "Epoch 45, CIFAR-10 Batch 4:  Cost = 423.8809814453125 | Accuracy = 0.8716216087341309\n",
            "Epoch 45, CIFAR-10 Batch 5:  Cost = 322.1614074707031 | Accuracy = 0.8817567825317383\n",
            "Epoch 46, CIFAR-10 Batch 1:  Cost = 357.46075439453125 | Accuracy = 0.8986486196517944\n",
            "Epoch 46, CIFAR-10 Batch 2:  Cost = 273.714599609375 | Accuracy = 0.9189189076423645\n",
            "Epoch 46, CIFAR-10 Batch 3:  Cost = 285.56512451171875 | Accuracy = 0.9189189076423645\n",
            "Epoch 46, CIFAR-10 Batch 4:  Cost = 492.5408630371094 | Accuracy = 0.8682432174682617\n",
            "Epoch 46, CIFAR-10 Batch 5:  Cost = 199.7602081298828 | Accuracy = 0.9290540814399719\n",
            "Epoch 47, CIFAR-10 Batch 1:  Cost = 397.23760986328125 | Accuracy = 0.8885135054588318\n",
            "Epoch 47, CIFAR-10 Batch 2:  Cost = 247.83493041992188 | Accuracy = 0.9155405163764954\n",
            "Epoch 47, CIFAR-10 Batch 3:  Cost = 242.55592346191406 | Accuracy = 0.9054054021835327\n",
            "Epoch 47, CIFAR-10 Batch 4:  Cost = 221.91099548339844 | Accuracy = 0.9155405163764954\n",
            "Epoch 47, CIFAR-10 Batch 5:  Cost = 320.6695251464844 | Accuracy = 0.8918918967247009\n",
            "Epoch 48, CIFAR-10 Batch 1:  Cost = 328.7264404296875 | Accuracy = 0.9020270109176636\n",
            "Epoch 48, CIFAR-10 Batch 2:  Cost = 233.61758422851562 | Accuracy = 0.912162184715271\n"
          ],
          "name": "stdout"
        },
        {
          "output_type": "stream",
          "text": [
            "Epoch 48, CIFAR-10 Batch 3:  Cost = 147.47763061523438 | Accuracy = 0.9425675868988037\n",
            "Epoch 48, CIFAR-10 Batch 4:  Cost = 264.53472900390625 | Accuracy = 0.9054054021835327\n",
            "Epoch 48, CIFAR-10 Batch 5:  Cost = 213.17977905273438 | Accuracy = 0.912162184715271\n",
            "Epoch 49, CIFAR-10 Batch 1:  Cost = 272.3177490234375 | Accuracy = 0.8986486196517944\n",
            "Epoch 49, CIFAR-10 Batch 2:  Cost = 221.79452514648438 | Accuracy = 0.912162184715271\n",
            "Epoch 49, CIFAR-10 Batch 3:  Cost = 176.86111450195312 | Accuracy = 0.9358108043670654\n",
            "Epoch 49, CIFAR-10 Batch 4:  Cost = 308.6266174316406 | Accuracy = 0.9020270109176636\n",
            "Epoch 49, CIFAR-10 Batch 5:  Cost = 340.9698181152344 | Accuracy = 0.8783783912658691\n",
            "Epoch 50, CIFAR-10 Batch 1:  Cost = 320.2846374511719 | Accuracy = 0.9155405163764954\n",
            "Epoch 50, CIFAR-10 Batch 2:  Cost = 312.9129943847656 | Accuracy = 0.9189189076423645\n",
            "Epoch 50, CIFAR-10 Batch 3:  Cost = 173.72561645507812 | Accuracy = 0.9324324131011963\n",
            "Epoch 50, CIFAR-10 Batch 4:  Cost = 177.99378967285156 | Accuracy = 0.9290540814399719\n",
            "Epoch 50, CIFAR-10 Batch 5:  Cost = 229.9590301513672 | Accuracy = 0.9222972989082336\n"
          ],
          "name": "stdout"
        }
      ]
    },
    {
      "metadata": {
        "id": "WAE3DzsTL54U",
        "colab_type": "text"
      },
      "cell_type": "markdown",
      "source": [
        "# Checkpoint\n",
        "The model has been saved to disk.\n",
        "## Test Model\n",
        "Test your model against the test dataset.  This will be your final accuracy. You should have an accuracy greater than 50%. If you don't, keep tweaking the model architecture and parameters."
      ]
    },
    {
      "metadata": {
        "id": "4rShwaIGL54V",
        "colab_type": "code",
        "colab": {
          "autoexec": {
            "startup": false,
            "wait_interval": 0
          },
          "output_extras": [
            {
              "item_id": 2
            },
            {
              "item_id": 3
            }
          ],
          "base_uri": "https://localhost:8080/",
          "height": 387
        },
        "outputId": "6de3adaf-9a74-4643-8fd5-bebe47559d94",
        "executionInfo": {
          "status": "ok",
          "timestamp": 1520889739336,
          "user_tz": 180,
          "elapsed": 9598,
          "user": {
            "displayName": "John Theo",
            "photoUrl": "//lh6.googleusercontent.com/-fECaVwQa6JE/AAAAAAAAAAI/AAAAAAAAFFc/W-idqhaMJgQ/s50-c-k-no/photo.jpg",
            "userId": "110310482521799337507"
          }
        }
      },
      "cell_type": "code",
      "source": [
        "\"\"\"\n",
        "DON'T MODIFY ANYTHING IN THIS CELL\n",
        "\"\"\"\n",
        "%matplotlib inline\n",
        "%config InlineBackend.figure_format = 'retina'\n",
        "\n",
        "import tensorflow as tf\n",
        "import pickle\n",
        "import helper\n",
        "import random\n",
        "\n",
        "# Set batch size if not already set\n",
        "try:\n",
        "    if batch_size:\n",
        "        pass\n",
        "except NameError:\n",
        "    batch_size = 64\n",
        "\n",
        "save_model_path = './image_classification'\n",
        "n_samples = 4\n",
        "top_n_predictions = 3\n",
        "\n",
        "def test_model():\n",
        "    \"\"\"\n",
        "    Test the saved model against the test dataset\n",
        "    \"\"\"\n",
        "\n",
        "    test_features, test_labels = pickle.load(open('preprocess_test.p', mode='rb'))\n",
        "    loaded_graph = tf.Graph()\n",
        "\n",
        "    with tf.Session(graph=loaded_graph) as sess:\n",
        "        # Load model\n",
        "        loader = tf.train.import_meta_graph(save_model_path + '.meta')\n",
        "        loader.restore(sess, save_model_path)\n",
        "\n",
        "        # Get Tensors from loaded model\n",
        "        loaded_x = loaded_graph.get_tensor_by_name('x:0')\n",
        "        loaded_y = loaded_graph.get_tensor_by_name('y:0')\n",
        "        loaded_keep_prob = loaded_graph.get_tensor_by_name('keep_prob:0')\n",
        "        loaded_logits = loaded_graph.get_tensor_by_name('logits:0')\n",
        "        loaded_acc = loaded_graph.get_tensor_by_name('accuracy:0')\n",
        "        \n",
        "        # Get accuracy in batches for memory limitations\n",
        "        test_batch_acc_total = 0\n",
        "        test_batch_count = 0\n",
        "        \n",
        "        for test_feature_batch, test_label_batch in helper.batch_features_labels(test_features, test_labels, batch_size):\n",
        "            test_batch_acc_total += sess.run(\n",
        "                loaded_acc,\n",
        "                feed_dict={loaded_x: test_feature_batch, loaded_y: test_label_batch, loaded_keep_prob: 1.0})\n",
        "            test_batch_count += 1\n",
        "\n",
        "        print('Testing Accuracy: {}\\n'.format(test_batch_acc_total/test_batch_count))\n",
        "\n",
        "        # Print Random Samples\n",
        "        random_test_features, random_test_labels = tuple(zip(*random.sample(list(zip(test_features, test_labels)), n_samples)))\n",
        "        random_test_predictions = sess.run(\n",
        "            tf.nn.top_k(tf.nn.softmax(loaded_logits), top_n_predictions),\n",
        "            feed_dict={loaded_x: random_test_features, loaded_y: random_test_labels, loaded_keep_prob: 1.0})\n",
        "        helper.display_image_predictions(random_test_features, random_test_labels, random_test_predictions)\n",
        "\n",
        "\n",
        "test_model()"
      ],
      "execution_count": 126,
      "outputs": [
        {
          "output_type": "stream",
          "text": [
            "INFO:tensorflow:Restoring parameters from ./image_classification\n",
            "Testing Accuracy: 0.5721909463405609\n",
            "\n"
          ],
          "name": "stdout"
        },
        {
          "output_type": "display_data",
          "data": {
            "image/png": "[encoded data removed]",
            "text/plain": [
              "<matplotlib.figure.Figure at 0x7f676a36bef0>"
            ]
          },
          "metadata": {
            "tags": [],
            "image/png": {
              "width": 347,
              "height": 319
            }
          }
        }
      ]
    },
    {
      "metadata": {
        "id": "Lulvf4pUL54Z",
        "colab_type": "text"
      },
      "cell_type": "markdown",
      "source": [
        "## Why 50-80% Accuracy?\n",
        "You might be wondering why you can't get an accuracy any higher. First things first, 50% isn't bad for a simple CNN.  Pure guessing would get you 10% accuracy. However, you might notice people are getting scores [well above 80%](http://rodrigob.github.io/are_we_there_yet/build/classification_datasets_results.html#43494641522d3130).  That's because we haven't taught you all there is to know about neural networks. We still need to cover a few more techniques.\n",
        "## Submitting This Project\n",
        "When submitting this project, make sure to run all the cells before saving the notebook.  Save the notebook file as \"dlnd_image_classification.ipynb\" and save it as a HTML file under \"File\" -> \"Download as\".  Include the \"helper.py\" and \"problem_unittests.py\" files in your submission."
      ]
    },
    {
      "metadata": {
        "id": "I3czgeEPL54a",
        "colab_type": "text"
      },
      "cell_type": "markdown",
      "source": [
        "<hr>"
      ]
    },
    {
      "metadata": {
        "id": "GNHhSYMWL54b",
        "colab_type": "text"
      },
      "cell_type": "markdown",
      "source": [
        "## Perceptions  \n",
        "- Bigger(numerous output) fully connected layers allow a better accuracy, maybe due the quantity of features learned. With small ones, we started with low loss and accuracy, so the network havent \"space\" to learn. Even if a first huge fully connecte, but with a last small, the network doesnt learn well. So the recommendation is to use only bigger ones.\n",
        "- Narrowing the fully connected layer doesnt improve the accuracy\n",
        "- Bigger Convolution layers, provides a better test accuracy, but consideraly slows the training step\n",
        "- Add another conv layer with same config didnt improve the accuracy\n",
        "- Narrowing Convolution Layers(add one by another with less outputs) worsed significantily the accuracy\n",
        "- Dropout only worked in the output layer, but I need to increase the epochs to reach a acceptable accuracy. Maybe due the fact that the dropout smotth the loss curve"
      ]
    },
    {
      "metadata": {
        "id": "EN2rqFZsJXzC",
        "colab_type": "text"
      },
      "cell_type": "markdown",
      "source": [
        "<hr>"
      ]
    }
  ]
}