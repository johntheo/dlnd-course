{
 "cells": [
  {
   "cell_type": "markdown",
   "metadata": {
    "colab_type": "text",
    "id": "x7-0V-IoVxRZ"
   },
   "source": [
    "## PREPARATION\n",
    "\n",
    "This section was used to install some required packages as well as prepare the environment to use in [Google Collaboratory](https://colab.research.google.com/).  \n",
    "If you configure your environment using the requirement.txt or you are running in another cloud(AWS or even locally), this section is not required."
   ]
  },
  {
   "cell_type": "code",
   "execution_count": null,
   "metadata": {
    "colab": {
     "autoexec": {
      "startup": false,
      "wait_interval": 0
     },
     "base_uri": "https://localhost:8080/",
     "height": 306,
     "output_extras": [
      {
       "item_id": 19
      }
     ]
    },
    "colab_type": "code",
    "executionInfo": {
     "elapsed": 33352,
     "status": "ok",
     "timestamp": 1522736783820,
     "user": {
      "displayName": "John Theo",
      "photoUrl": "//lh6.googleusercontent.com/-fECaVwQa6JE/AAAAAAAAAAI/AAAAAAAAFFc/W-idqhaMJgQ/s50-c-k-no/photo.jpg",
      "userId": "110310482521799337507"
     },
     "user_tz": 180
    },
    "id": "Z1-yGBLkMGl5",
    "outputId": "ec86a295-3245-40ce-940b-6bf812002219"
   },
   "outputs": [],
   "source": [
    "# INSTALLING REQUIRED PACKAGES\n",
    "!pip install tqdm\n",
    "!pip install sklearn"
   ]
  },
  {
   "cell_type": "code",
   "execution_count": null,
   "metadata": {
    "colab": {
     "autoexec": {
      "startup": false,
      "wait_interval": 0
     },
     "base_uri": "https://localhost:8080/",
     "height": 102,
     "output_extras": [
      {
       "item_id": 6
      }
     ]
    },
    "colab_type": "code",
    "executionInfo": {
     "elapsed": 5447,
     "status": "ok",
     "timestamp": 1522736789305,
     "user": {
      "displayName": "John Theo",
      "photoUrl": "//lh6.googleusercontent.com/-fECaVwQa6JE/AAAAAAAAAAI/AAAAAAAAFFc/W-idqhaMJgQ/s50-c-k-no/photo.jpg",
      "userId": "110310482521799337507"
     },
     "user_tz": 180
    },
    "id": "meHpmHEoMRUW",
    "outputId": "0899cb16-5f47-465e-ef4b-06fd1271524f"
   },
   "outputs": [],
   "source": [
    "# DOWNLOAD AUXILIAR CODE TO THE GOOGLE COLLABORATORY ENVIRONMENT\n",
    "!rm -rf dlnd-course\n",
    "!git clone https://github.com/johntheo/dlnd-course.git"
   ]
  },
  {
   "cell_type": "code",
   "execution_count": null,
   "metadata": {
    "colab": {
     "autoexec": {
      "startup": false,
      "wait_interval": 0
     }
    },
    "colab_type": "code",
    "id": "TmSS42bAM29I"
   },
   "outputs": [],
   "source": [
    "# ADDING DOWNLOADED CODE TO THE PATH. SO IT CAN BE IMPORTED FORWARD\n",
    "import sys\n",
    "sys.path.insert(0, 'dlnd-course/project-3/')"
   ]
  },
  {
   "cell_type": "markdown",
   "metadata": {
    "colab_type": "text",
    "id": "O1gJFVqMj68E"
   },
   "source": [
    "# TV Script Generation\n",
    "In this project, you'll generate your own [Simpsons](https://en.wikipedia.org/wiki/The_Simpsons) TV scripts using RNNs.  You'll be using part of the [Simpsons dataset](https://www.kaggle.com/wcukierski/the-simpsons-by-the-data) of scripts from 27 seasons.  The Neural Network you'll build will generate a new TV script for a scene at [Moe's Tavern](https://simpsonswiki.com/wiki/Moe's_Tavern).\n",
    "## Get the Data\n",
    "The data is already provided for you.  You'll be using a subset of the original dataset.  It consists of only the scenes in Moe's Tavern.  This doesn't include other versions of the tavern, like \"Moe's Cavern\", \"Flaming Moe's\", \"Uncle Moe's Family Feed-Bag\", etc.."
   ]
  },
  {
   "cell_type": "code",
   "execution_count": 1,
   "metadata": {
    "colab": {
     "autoexec": {
      "startup": false,
      "wait_interval": 0
     }
    },
    "colab_type": "code",
    "id": "PXetguSzj68G"
   },
   "outputs": [],
   "source": [
    "\"\"\"\n",
    "DON'T MODIFY ANYTHING IN THIS CELL\n",
    "\"\"\"\n",
    "import helper\n",
    "\n",
    "data_dir = './data/simpsons/moes_tavern_lines.txt' #ORIGINAL VALUE\n",
    "#data_dir = 'dlnd-course/project-3/data/simpsons/moes_tavern_lines.txt' #MODIFIED FOR GOOGLE COLABORATORY\n",
    "text = helper.load_data(data_dir)\n",
    "# Ignore notice, since we don't use it for analysing the data\n",
    "text = text[81:]"
   ]
  },
  {
   "cell_type": "markdown",
   "metadata": {
    "colab_type": "text",
    "id": "4eK-EOpkj68K"
   },
   "source": [
    "## Explore the Data\n",
    "Play around with `view_sentence_range` to view different parts of the data."
   ]
  },
  {
   "cell_type": "code",
   "execution_count": 2,
   "metadata": {
    "colab": {
     "autoexec": {
      "startup": false,
      "wait_interval": 0
     },
     "base_uri": "https://localhost:8080/",
     "height": 323,
     "output_extras": [
      {
       "item_id": 1
      }
     ]
    },
    "colab_type": "code",
    "executionInfo": {
     "elapsed": 539,
     "status": "ok",
     "timestamp": 1522736793455,
     "user": {
      "displayName": "John Theo",
      "photoUrl": "//lh6.googleusercontent.com/-fECaVwQa6JE/AAAAAAAAAAI/AAAAAAAAFFc/W-idqhaMJgQ/s50-c-k-no/photo.jpg",
      "userId": "110310482521799337507"
     },
     "user_tz": 180
    },
    "id": "tkg__bonj68L",
    "outputId": "f02bb8e0-24ed-4200-a672-21e8e78ffea0"
   },
   "outputs": [
    {
     "name": "stdout",
     "output_type": "stream",
     "text": [
      "Dataset Stats\n",
      "Roughly the number of unique words: 11492\n",
      "Number of scenes: 262\n",
      "Average number of sentences in each scene: 15.248091603053435\n",
      "Number of lines: 4257\n",
      "Average number of words in each line: 11.50434578341555\n",
      "\n",
      "The sentences 0 to 10:\n",
      "Moe_Szyslak: (INTO PHONE) Moe's Tavern. Where the elite meet to drink.\n",
      "Bart_Simpson: Eh, yeah, hello, is Mike there? Last name, Rotch.\n",
      "Moe_Szyslak: (INTO PHONE) Hold on, I'll check. (TO BARFLIES) Mike Rotch. Mike Rotch. Hey, has anybody seen Mike Rotch, lately?\n",
      "Moe_Szyslak: (INTO PHONE) Listen you little puke. One of these days I'm gonna catch you, and I'm gonna carve my name on your back with an ice pick.\n",
      "Moe_Szyslak: What's the matter Homer? You're not your normal effervescent self.\n",
      "Homer_Simpson: I got my problems, Moe. Give me another one.\n",
      "Moe_Szyslak: Homer, hey, you should not drink to forget your problems.\n",
      "Barney_Gumble: Yeah, you should only drink to enhance your social skills.\n",
      "\n",
      "\n"
     ]
    }
   ],
   "source": [
    "view_sentence_range = (0, 10)\n",
    "\n",
    "\"\"\"\n",
    "DON'T MODIFY ANYTHING IN THIS CELL\n",
    "\"\"\"\n",
    "import numpy as np\n",
    "\n",
    "print('Dataset Stats')\n",
    "print('Roughly the number of unique words: {}'.format(len({word: None for word in text.split()})))\n",
    "scenes = text.split('\\n\\n')\n",
    "print('Number of scenes: {}'.format(len(scenes)))\n",
    "sentence_count_scene = [scene.count('\\n') for scene in scenes]\n",
    "print('Average number of sentences in each scene: {}'.format(np.average(sentence_count_scene)))\n",
    "\n",
    "sentences = [sentence for scene in scenes for sentence in scene.split('\\n')]\n",
    "print('Number of lines: {}'.format(len(sentences)))\n",
    "word_count_sentence = [len(sentence.split()) for sentence in sentences]\n",
    "print('Average number of words in each line: {}'.format(np.average(word_count_sentence)))\n",
    "\n",
    "print()\n",
    "print('The sentences {} to {}:'.format(*view_sentence_range))\n",
    "print('\\n'.join(text.split('\\n')[view_sentence_range[0]:view_sentence_range[1]]))"
   ]
  },
  {
   "cell_type": "markdown",
   "metadata": {
    "colab_type": "text",
    "id": "B8Fjpf5zj68O"
   },
   "source": [
    "## Implement Preprocessing Functions\n",
    "The first thing to do to any dataset is preprocessing.  Implement the following preprocessing functions below:\n",
    "- Lookup Table\n",
    "- Tokenize Punctuation\n",
    "\n",
    "### Lookup Table\n",
    "To create a word embedding, you first need to transform the words to ids.  In this function, create two dictionaries:\n",
    "- Dictionary to go from the words to an id, we'll call `vocab_to_int`\n",
    "- Dictionary to go from the id to word, we'll call `int_to_vocab`\n",
    "\n",
    "Return these dictionaries in the following tuple `(vocab_to_int, int_to_vocab)`"
   ]
  },
  {
   "cell_type": "code",
   "execution_count": 3,
   "metadata": {
    "colab": {
     "autoexec": {
      "startup": false,
      "wait_interval": 0
     },
     "base_uri": "https://localhost:8080/",
     "height": 1677,
     "output_extras": [
      {
       "item_id": 1
      }
     ]
    },
    "colab_type": "code",
    "executionInfo": {
     "elapsed": 2117,
     "status": "error",
     "timestamp": 1522736795762,
     "user": {
      "displayName": "John Theo",
      "photoUrl": "//lh6.googleusercontent.com/-fECaVwQa6JE/AAAAAAAAAAI/AAAAAAAAFFc/W-idqhaMJgQ/s50-c-k-no/photo.jpg",
      "userId": "110310482521799337507"
     },
     "user_tz": 180
    },
    "id": "ABZvNC5yj68P",
    "outputId": "463a6c6a-cedd-4d0a-c24a-3650faf0a05f"
   },
   "outputs": [
    {
     "name": "stderr",
     "output_type": "stream",
     "text": [
      "/home/ec2-user/anaconda3/envs/tensorflow_p36/lib/python3.6/site-packages/h5py/__init__.py:36: FutureWarning: Conversion of the second argument of issubdtype from `float` to `np.floating` is deprecated. In future, it will be treated as `np.float64 == np.dtype(float).type`.\n",
      "  from ._conv import register_converters as _register_converters\n",
      "/home/ec2-user/anaconda3/envs/tensorflow_p36/lib/python3.6/site-packages/matplotlib/__init__.py:962: UserWarning: Duplicate key in file \"/home/ec2-user/.config/matplotlib/matplotlibrc\", line #2\n",
      "  (fname, cnt))\n",
      "/home/ec2-user/anaconda3/envs/tensorflow_p36/lib/python3.6/site-packages/matplotlib/__init__.py:962: UserWarning: Duplicate key in file \"/home/ec2-user/.config/matplotlib/matplotlibrc\", line #3\n",
      "  (fname, cnt))\n"
     ]
    },
    {
     "name": "stdout",
     "output_type": "stream",
     "text": [
      "Tests Passed\n"
     ]
    }
   ],
   "source": [
    "import numpy as np\n",
    "import problem_unittests as tests\n",
    "\n",
    "def create_lookup_tables(text):\n",
    "    \"\"\"\n",
    "    Create lookup tables for vocabulary\n",
    "    :param text: The text of tv scripts split into words\n",
    "    :return: A tuple of dicts (vocab_to_int, int_to_vocab)\n",
    "    \"\"\"\n",
    "    vocab = set(text) #removing duplicated\n",
    "    \n",
    "    vocab_to_int = {word:indx for (indx,word) in enumerate(vocab)}\n",
    "    int_to_vocab = {indx:word for (indx,word) in enumerate(vocab)}\n",
    "    \n",
    "    return vocab_to_int, int_to_vocab\n",
    "\n",
    "\n",
    "\"\"\"\n",
    "DON'T MODIFY ANYTHING IN THIS CELL THAT IS BELOW THIS LINE\n",
    "\"\"\"\n",
    "tests.test_create_lookup_tables(create_lookup_tables)"
   ]
  },
  {
   "cell_type": "markdown",
   "metadata": {
    "colab_type": "text",
    "id": "TDIgP3L4j68T"
   },
   "source": [
    "### Tokenize Punctuation\n",
    "We'll be splitting the script into a word array using spaces as delimiters.  However, punctuations like periods and exclamation marks make it hard for the neural network to distinguish between the word \"bye\" and \"bye!\".\n",
    "\n",
    "Implement the function `token_lookup` to return a dict that will be used to tokenize symbols like \"!\" into \"||Exclamation_Mark||\".  Create a dictionary for the following symbols where the symbol is the key and value is the token:\n",
    "- Period ( . )\n",
    "- Comma ( , )\n",
    "- Quotation Mark ( \" )\n",
    "- Semicolon ( ; )\n",
    "- Exclamation mark ( ! )\n",
    "- Question mark ( ? )\n",
    "- Left Parentheses ( ( )\n",
    "- Right Parentheses ( ) )\n",
    "- Dash ( -- )\n",
    "- Return ( \\n )\n",
    "\n",
    "This dictionary will be used to token the symbols and add the delimiter (space) around it.  This separates the symbols as it's own word, making it easier for the neural network to predict on the next word. Make sure you don't use a token that could be confused as a word. Instead of using the token \"dash\", try using something like \"||dash||\"."
   ]
  },
  {
   "cell_type": "code",
   "execution_count": 4,
   "metadata": {
    "colab": {
     "autoexec": {
      "startup": false,
      "wait_interval": 0
     },
     "base_uri": "https://localhost:8080/",
     "height": 34,
     "output_extras": [
      {
       "item_id": 1
      }
     ]
    },
    "colab_type": "code",
    "executionInfo": {
     "elapsed": 548,
     "status": "ok",
     "timestamp": 1522736623877,
     "user": {
      "displayName": "John Theo",
      "photoUrl": "//lh6.googleusercontent.com/-fECaVwQa6JE/AAAAAAAAAAI/AAAAAAAAFFc/W-idqhaMJgQ/s50-c-k-no/photo.jpg",
      "userId": "110310482521799337507"
     },
     "user_tz": 180
    },
    "id": "cU_70Ovwj68T",
    "outputId": "a8a3c43a-a6c9-4c59-c315-ed5bf425fc6b"
   },
   "outputs": [
    {
     "name": "stdout",
     "output_type": "stream",
     "text": [
      "Tests Passed\n"
     ]
    }
   ],
   "source": [
    "def token_lookup():\n",
    "    \"\"\"\n",
    "    Generate a dict to turn punctuation into a token.\n",
    "    :return: Tokenize dictionary where the key is the punctuation and the value is the token\n",
    "    \"\"\"\n",
    "    # TODO: Implement Function\n",
    "    return {\n",
    "        '.' :'||period||',\n",
    "        ',' :'||comma||',\n",
    "        '\\\"':'||quotation_mark||',\n",
    "        ';' :'||semicolon||',\n",
    "        '!' :'||exclamation_mark||',\n",
    "        '?' :'||question_mark||',\n",
    "        '(' :'||left_parentheses||',\n",
    "        ')' :'||right_parentheses||',\n",
    "        '--':'||dash||',\n",
    "        '\\n':'||return||'\n",
    "           }\n",
    "\n",
    "\"\"\"\n",
    "DON'T MODIFY ANYTHING IN THIS CELL THAT IS BELOW THIS LINE\n",
    "\"\"\"\n",
    "tests.test_tokenize(token_lookup)"
   ]
  },
  {
   "cell_type": "markdown",
   "metadata": {
    "colab_type": "text",
    "id": "YbE5he7Jj68W"
   },
   "source": [
    "## Preprocess all the data and save it\n",
    "Running the code cell below will preprocess all the data and save it to file."
   ]
  },
  {
   "cell_type": "code",
   "execution_count": 5,
   "metadata": {
    "colab": {
     "autoexec": {
      "startup": false,
      "wait_interval": 0
     }
    },
    "colab_type": "code",
    "id": "BiCZxyOHj68Y"
   },
   "outputs": [],
   "source": [
    "\"\"\"\n",
    "DON'T MODIFY ANYTHING IN THIS CELL\n",
    "\"\"\"\n",
    "# Preprocess Training, Validation, and Testing Data\n",
    "helper.preprocess_and_save_data(data_dir, token_lookup, create_lookup_tables)"
   ]
  },
  {
   "cell_type": "markdown",
   "metadata": {
    "colab_type": "text",
    "id": "BmMn4E4xj68i"
   },
   "source": [
    "# Check Point\n",
    "This is your first checkpoint. If you ever decide to come back to this notebook or have to restart the notebook, you can start from here. The preprocessed data has been saved to disk."
   ]
  },
  {
   "cell_type": "code",
   "execution_count": 6,
   "metadata": {
    "colab": {
     "autoexec": {
      "startup": false,
      "wait_interval": 0
     }
    },
    "colab_type": "code",
    "id": "HTeHx3iJj68k"
   },
   "outputs": [],
   "source": [
    "\"\"\"\n",
    "DON'T MODIFY ANYTHING IN THIS CELL\n",
    "\"\"\"\n",
    "import helper\n",
    "import numpy as np\n",
    "import problem_unittests as tests\n",
    "\n",
    "int_text, vocab_to_int, int_to_vocab, token_dict = helper.load_preprocess()"
   ]
  },
  {
   "cell_type": "markdown",
   "metadata": {
    "colab_type": "text",
    "id": "tbXvWO-jj68o"
   },
   "source": [
    "## Build the Neural Network\n",
    "You'll build the components necessary to build a RNN by implementing the following functions below:\n",
    "- get_inputs\n",
    "- get_init_cell\n",
    "- get_embed\n",
    "- build_rnn\n",
    "- build_nn\n",
    "- get_batches\n",
    "\n",
    "### Check the Version of TensorFlow and Access to GPU"
   ]
  },
  {
   "cell_type": "code",
   "execution_count": 7,
   "metadata": {
    "colab": {
     "autoexec": {
      "startup": false,
      "wait_interval": 0
     },
     "base_uri": "https://localhost:8080/",
     "height": 51,
     "output_extras": [
      {
       "item_id": 2
      }
     ]
    },
    "colab_type": "code",
    "executionInfo": {
     "elapsed": 731,
     "status": "ok",
     "timestamp": 1522736626142,
     "user": {
      "displayName": "John Theo",
      "photoUrl": "//lh6.googleusercontent.com/-fECaVwQa6JE/AAAAAAAAAAI/AAAAAAAAFFc/W-idqhaMJgQ/s50-c-k-no/photo.jpg",
      "userId": "110310482521799337507"
     },
     "user_tz": 180
    },
    "id": "e7T9WnbRj68q",
    "outputId": "df6a2fd0-d18a-4c7c-9e64-68ab856f3324"
   },
   "outputs": [
    {
     "name": "stdout",
     "output_type": "stream",
     "text": [
      "TensorFlow Version: 1.5.0\n",
      "Default GPU Device: /device:GPU:0\n"
     ]
    }
   ],
   "source": [
    "\"\"\"\n",
    "DON'T MODIFY ANYTHING IN THIS CELL\n",
    "\"\"\"\n",
    "from distutils.version import LooseVersion\n",
    "import warnings\n",
    "import tensorflow as tf\n",
    "\n",
    "# Check TensorFlow Version\n",
    "assert LooseVersion(tf.__version__) >= LooseVersion('1.3'), 'Please use TensorFlow version 1.3 or newer'\n",
    "print('TensorFlow Version: {}'.format(tf.__version__))\n",
    "\n",
    "# Check for a GPU\n",
    "if not tf.test.gpu_device_name():\n",
    "    warnings.warn('No GPU found. Please use a GPU to train your neural network.')\n",
    "else:\n",
    "    print('Default GPU Device: {}'.format(tf.test.gpu_device_name()))"
   ]
  },
  {
   "cell_type": "markdown",
   "metadata": {
    "colab_type": "text",
    "id": "EHEN6ucwj68y"
   },
   "source": [
    "### Input\n",
    "Implement the `get_inputs()` function to create TF Placeholders for the Neural Network.  It should create the following placeholders:\n",
    "- Input text placeholder named \"input\" using the [TF Placeholder](https://www.tensorflow.org/api_docs/python/tf/placeholder) `name` parameter.\n",
    "- Targets placeholder\n",
    "- Learning Rate placeholder\n",
    "\n",
    "Return the placeholders in the following tuple `(Input, Targets, LearningRate)`"
   ]
  },
  {
   "cell_type": "code",
   "execution_count": 8,
   "metadata": {
    "colab": {
     "autoexec": {
      "startup": false,
      "wait_interval": 0
     },
     "base_uri": "https://localhost:8080/",
     "height": 34,
     "output_extras": [
      {
       "item_id": 1
      }
     ]
    },
    "colab_type": "code",
    "executionInfo": {
     "elapsed": 580,
     "status": "ok",
     "timestamp": 1522736626783,
     "user": {
      "displayName": "John Theo",
      "photoUrl": "//lh6.googleusercontent.com/-fECaVwQa6JE/AAAAAAAAAAI/AAAAAAAAFFc/W-idqhaMJgQ/s50-c-k-no/photo.jpg",
      "userId": "110310482521799337507"
     },
     "user_tz": 180
    },
    "id": "M_VeMggpj68z",
    "outputId": "65486803-3267-485d-d699-091d6badd209"
   },
   "outputs": [
    {
     "name": "stdout",
     "output_type": "stream",
     "text": [
      "Tests Passed\n"
     ]
    }
   ],
   "source": [
    "def get_inputs():\n",
    "    \"\"\"\n",
    "    Create TF Placeholders for input, targets, and learning rate.\n",
    "    :return: Tuple (input, targets, learning rate)\n",
    "    \"\"\"\n",
    "    # TODO: Implement Function\n",
    "    inputs = tf.placeholder(tf.int32, (None,None), name=\"input\")\n",
    "    targets = tf.placeholder(tf.int32, (None,None), name=\"targets\")\n",
    "    learning_rate = tf.placeholder(tf.float32, name=\"learning_rate\")\n",
    "    \n",
    "    return inputs, targets, learning_rate\n",
    "\n",
    "\n",
    "\n",
    "\"\"\"\n",
    "DON'T MODIFY ANYTHING IN THIS CELL THAT IS BELOW THIS LINE\n",
    "\"\"\"\n",
    "tests.test_get_inputs(get_inputs)"
   ]
  },
  {
   "cell_type": "markdown",
   "metadata": {
    "colab_type": "text",
    "id": "PPgT-Ntqj684"
   },
   "source": [
    "### Build RNN Cell and Initialize\n",
    "Stack one or more [`BasicLSTMCells`](https://www.tensorflow.org/api_docs/python/tf/contrib/rnn/BasicLSTMCell) in a [`MultiRNNCell`](https://www.tensorflow.org/api_docs/python/tf/contrib/rnn/MultiRNNCell).\n",
    "- The Rnn size should be set using `rnn_size`\n",
    "- Initalize Cell State using the MultiRNNCell's [`zero_state()`](https://www.tensorflow.org/api_docs/python/tf/contrib/rnn/MultiRNNCell#zero_state) function\n",
    "    - Apply the name \"initial_state\" to the initial state using [`tf.identity()`](https://www.tensorflow.org/api_docs/python/tf/identity)\n",
    "\n",
    "Return the cell and initial state in the following tuple `(Cell, InitialState)`"
   ]
  },
  {
   "cell_type": "code",
   "execution_count": 16,
   "metadata": {
    "colab": {
     "autoexec": {
      "startup": false,
      "wait_interval": 0
     },
     "base_uri": "https://localhost:8080/",
     "height": 34,
     "output_extras": [
      {
       "item_id": 1
      }
     ]
    },
    "colab_type": "code",
    "executionInfo": {
     "elapsed": 510,
     "status": "ok",
     "timestamp": 1522736627463,
     "user": {
      "displayName": "John Theo",
      "photoUrl": "//lh6.googleusercontent.com/-fECaVwQa6JE/AAAAAAAAAAI/AAAAAAAAFFc/W-idqhaMJgQ/s50-c-k-no/photo.jpg",
      "userId": "110310482521799337507"
     },
     "user_tz": 180
    },
    "id": "GpcK_gXmj684",
    "outputId": "b75bb01b-4032-40c0-aa61-a30619b240e0"
   },
   "outputs": [
    {
     "name": "stdout",
     "output_type": "stream",
     "text": [
      "Tests Passed\n"
     ]
    }
   ],
   "source": [
    "def get_init_cell(batch_size, rnn_size):\n",
    "    \"\"\"\n",
    "    Create an RNN Cell and initialize it.\n",
    "    :param batch_size: Size of batches\n",
    "    :param rnn_size: Size of RNNs\n",
    "    :return: Tuple (cell, initialize state)\n",
    "    \"\"\"\n",
    "    # TODO: Implement Function\n",
    "    lstm_layers = 1 #change this values is causing dimension issues\n",
    "    lstm=tf.contrib.rnn.BasicLSTMCell(rnn_size) #lstm cell\n",
    "    cell=tf.contrib.rnn.MultiRNNCell([lstm] * lstm_layers) #stacking\n",
    "    initial_state = cell.zero_state(batch_size, tf.float32)\n",
    "    initial_state = tf.identity(initial_state,name=\"initial_state\")\n",
    "    \n",
    "    return cell, initial_state\n",
    "\n",
    "\n",
    "\n",
    "\"\"\"\n",
    "DON'T MODIFY ANYTHING IN THIS CELL THAT IS BELOW THIS LINE\n",
    "\"\"\"\n",
    "tests.test_get_init_cell(get_init_cell)"
   ]
  },
  {
   "cell_type": "markdown",
   "metadata": {
    "colab_type": "text",
    "id": "fzt4Vmb8j687"
   },
   "source": [
    "### Word Embedding\n",
    "Apply embedding to `input_data` using TensorFlow.  Return the embedded sequence."
   ]
  },
  {
   "cell_type": "code",
   "execution_count": 17,
   "metadata": {
    "colab": {
     "autoexec": {
      "startup": false,
      "wait_interval": 0
     },
     "base_uri": "https://localhost:8080/",
     "height": 34,
     "output_extras": [
      {
       "item_id": 1
      }
     ]
    },
    "colab_type": "code",
    "executionInfo": {
     "elapsed": 507,
     "status": "ok",
     "timestamp": 1522736628148,
     "user": {
      "displayName": "John Theo",
      "photoUrl": "//lh6.googleusercontent.com/-fECaVwQa6JE/AAAAAAAAAAI/AAAAAAAAFFc/W-idqhaMJgQ/s50-c-k-no/photo.jpg",
      "userId": "110310482521799337507"
     },
     "user_tz": 180
    },
    "id": "t-x_0x_Kj688",
    "outputId": "f5b09b57-9cac-40f3-9183-fc82122f4a2e"
   },
   "outputs": [
    {
     "name": "stdout",
     "output_type": "stream",
     "text": [
      "Tests Passed\n"
     ]
    }
   ],
   "source": [
    "def get_embed(input_data, vocab_size, embed_dim):\n",
    "    \"\"\"\n",
    "    Create embedding for <input_data>.\n",
    "    :param input_data: TF placeholder for text input.\n",
    "    :param vocab_size: Number of words in vocabulary.\n",
    "    :param embed_dim: Number of embedding dimensions\n",
    "    :return: Embedded input.\n",
    "    \"\"\"\n",
    "    # TODO: Implement Function\n",
    "    embedding = tf.Variable(tf.random_uniform((vocab_size, embed_dim), -1, 1))\n",
    "    embedded_input = tf.nn.embedding_lookup(embedding, input_data)\n",
    "    \n",
    "    return embedded_input\n",
    "\n",
    "\n",
    "\n",
    "\"\"\"\n",
    "DON'T MODIFY ANYTHING IN THIS CELL THAT IS BELOW THIS LINE\n",
    "\"\"\"\n",
    "tests.test_get_embed(get_embed)"
   ]
  },
  {
   "cell_type": "markdown",
   "metadata": {
    "colab_type": "text",
    "id": "ghg6SMQAj68-"
   },
   "source": [
    "### Build RNN\n",
    "You created a RNN Cell in the `get_init_cell()` function.  Time to use the cell to create a RNN.\n",
    "- Build the RNN using the [`tf.nn.dynamic_rnn()`](https://www.tensorflow.org/api_docs/python/tf/nn/dynamic_rnn)\n",
    " - Apply the name \"final_state\" to the final state using [`tf.identity()`](https://www.tensorflow.org/api_docs/python/tf/identity)\n",
    "\n",
    "Return the outputs and final_state state in the following tuple `(Outputs, FinalState)` "
   ]
  },
  {
   "cell_type": "code",
   "execution_count": 18,
   "metadata": {
    "colab": {
     "autoexec": {
      "startup": false,
      "wait_interval": 0
     },
     "base_uri": "https://localhost:8080/",
     "height": 34,
     "output_extras": [
      {
       "item_id": 1
      }
     ]
    },
    "colab_type": "code",
    "executionInfo": {
     "elapsed": 529,
     "status": "ok",
     "timestamp": 1522736628878,
     "user": {
      "displayName": "John Theo",
      "photoUrl": "//lh6.googleusercontent.com/-fECaVwQa6JE/AAAAAAAAAAI/AAAAAAAAFFc/W-idqhaMJgQ/s50-c-k-no/photo.jpg",
      "userId": "110310482521799337507"
     },
     "user_tz": 180
    },
    "id": "JIPF-S5Bj68_",
    "outputId": "238707b1-4743-4e9a-aff8-bc62cb1faac2"
   },
   "outputs": [
    {
     "name": "stdout",
     "output_type": "stream",
     "text": [
      "Tests Passed\n"
     ]
    }
   ],
   "source": [
    "def build_rnn(cell, inputs):\n",
    "    \"\"\"\n",
    "    Create a RNN using a RNN Cell\n",
    "    :param cell: RNN Cell\n",
    "    :param inputs: Input text data\n",
    "    :return: Tuple (Outputs, Final State)\n",
    "    \"\"\"\n",
    "    # TODO: Implement Function\n",
    "    outputs, final_state = tf.nn.dynamic_rnn(cell, inputs,dtype=tf.float32)\n",
    "    final_state=tf.identity(final_state,\"final_state\")\n",
    "\n",
    "    return outputs, final_state\n",
    "\n",
    "\n",
    "\"\"\"\n",
    "DON'T MODIFY ANYTHING IN THIS CELL THAT IS BELOW THIS LINE\n",
    "\"\"\"\n",
    "tests.test_build_rnn(build_rnn)"
   ]
  },
  {
   "cell_type": "markdown",
   "metadata": {
    "colab_type": "text",
    "id": "Evq5Mav8j69D"
   },
   "source": [
    "### Build the Neural Network\n",
    "Apply the functions you implemented above to:\n",
    "- Apply embedding to `input_data` using your `get_embed(input_data, vocab_size, embed_dim)` function.\n",
    "- Build RNN using `cell` and your `build_rnn(cell, inputs)` function.\n",
    "- Apply a fully connected layer with a linear activation and `vocab_size` as the number of outputs.\n",
    "\n",
    "Return the logits and final state in the following tuple (Logits, FinalState) "
   ]
  },
  {
   "cell_type": "code",
   "execution_count": 19,
   "metadata": {
    "colab": {
     "autoexec": {
      "startup": false,
      "wait_interval": 0
     },
     "base_uri": "https://localhost:8080/",
     "height": 34,
     "output_extras": [
      {
       "item_id": 1
      }
     ]
    },
    "colab_type": "code",
    "executionInfo": {
     "elapsed": 502,
     "status": "ok",
     "timestamp": 1522736629606,
     "user": {
      "displayName": "John Theo",
      "photoUrl": "//lh6.googleusercontent.com/-fECaVwQa6JE/AAAAAAAAAAI/AAAAAAAAFFc/W-idqhaMJgQ/s50-c-k-no/photo.jpg",
      "userId": "110310482521799337507"
     },
     "user_tz": 180
    },
    "id": "8xsSmmjPj69E",
    "outputId": "bbec85a1-f63a-4e1d-f164-6a4fd9da0f91"
   },
   "outputs": [
    {
     "name": "stdout",
     "output_type": "stream",
     "text": [
      "Tests Passed\n"
     ]
    }
   ],
   "source": [
    "def build_nn(cell, rnn_size, input_data, vocab_size, embed_dim):\n",
    "    \"\"\"\n",
    "    Build part of the neural network\n",
    "    :param cell: RNN cell\n",
    "    :param rnn_size: Size of rnns\n",
    "    :param input_data: Input data\n",
    "    :param vocab_size: Vocabulary size\n",
    "    :param embed_dim: Number of embedding dimensions\n",
    "    :return: Tuple (Logits, FinalState)\n",
    "    \"\"\"\n",
    "    # TODO: Implement Function\n",
    "    embed = get_embed(input_data, vocab_size, embed_dim)\n",
    "    \n",
    "    outputs, final_state = build_rnn(cell, embed)\n",
    "    \n",
    "    logits = tf.contrib.layers.fully_connected(outputs, vocab_size, activation_fn=None)\n",
    "    \n",
    "    return logits, final_state\n",
    "\n",
    "\n",
    "\"\"\"\n",
    "DON'T MODIFY ANYTHING IN THIS CELL THAT IS BELOW THIS LINE\n",
    "\"\"\"\n",
    "tests.test_build_nn(build_nn)"
   ]
  },
  {
   "cell_type": "markdown",
   "metadata": {
    "colab_type": "text",
    "id": "al0xZeYhj69H"
   },
   "source": [
    "### Batches\n",
    "Implement `get_batches` to create batches of input and targets using `int_text`.  The batches should be a Numpy array with the shape `(number of batches, 2, batch size, sequence length)`. Each batch contains two elements:\n",
    "- The first element is a single batch of **input** with the shape `[batch size, sequence length]`\n",
    "- The second element is a single batch of **targets** with the shape `[batch size, sequence length]`\n",
    "\n",
    "If you can't fill the last batch with enough data, drop the last batch.\n",
    "\n",
    "For example, `get_batches([1, 2, 3, 4, 5, 6, 7, 8, 9, 10, 11, 12, 13, 14, 15, 16, 17, 18, 19, 20], 3, 2)` would return a Numpy array of the following:\n",
    "```\n",
    "[\n",
    "  # First Batch\n",
    "  [\n",
    "    # Batch of Input\n",
    "    [[ 1  2], [ 7  8], [13 14]]\n",
    "    # Batch of targets\n",
    "    [[ 2  3], [ 8  9], [14 15]]\n",
    "  ]\n",
    "\n",
    "  # Second Batch\n",
    "  [\n",
    "    # Batch of Input\n",
    "    [[ 3  4], [ 9 10], [15 16]]\n",
    "    # Batch of targets\n",
    "    [[ 4  5], [10 11], [16 17]]\n",
    "  ]\n",
    "\n",
    "  # Third Batch\n",
    "  [\n",
    "    # Batch of Input\n",
    "    [[ 5  6], [11 12], [17 18]]\n",
    "    # Batch of targets\n",
    "    [[ 6  7], [12 13], [18  1]]\n",
    "  ]\n",
    "]\n",
    "```\n",
    "\n",
    "Notice that the last target value in the last batch is the first input value of the first batch. In this case, `1`. This is a common technique used when creating sequence batches, although it is rather unintuitive."
   ]
  },
  {
   "cell_type": "code",
   "execution_count": 20,
   "metadata": {
    "colab": {
     "autoexec": {
      "startup": false,
      "wait_interval": 0
     },
     "base_uri": "https://localhost:8080/",
     "height": 34,
     "output_extras": [
      {
       "item_id": 1
      }
     ]
    },
    "colab_type": "code",
    "executionInfo": {
     "elapsed": 507,
     "status": "ok",
     "timestamp": 1522736630292,
     "user": {
      "displayName": "John Theo",
      "photoUrl": "//lh6.googleusercontent.com/-fECaVwQa6JE/AAAAAAAAAAI/AAAAAAAAFFc/W-idqhaMJgQ/s50-c-k-no/photo.jpg",
      "userId": "110310482521799337507"
     },
     "user_tz": 180
    },
    "id": "-bYvF0IOj69H",
    "outputId": "5b0a4eab-db15-49ea-8f36-e69d8393de3c"
   },
   "outputs": [
    {
     "name": "stdout",
     "output_type": "stream",
     "text": [
      "Tests Passed\n"
     ]
    }
   ],
   "source": [
    "def get_batches(int_text, batch_size, seq_length):\n",
    "    \"\"\"\n",
    "    Return batches of input and target\n",
    "    :param int_text: Text with the words replaced by their ids\n",
    "    :param batch_size: The size of batch\n",
    "    :param seq_length: The length of sequence\n",
    "    :return: Batches as a Numpy array\n",
    "    \"\"\"\n",
    "    # TODO: Implement Function\n",
    "    n_batches = int(len(int_text) // (batch_size * seq_length)) #floor division for full batches\n",
    "    \n",
    "    int_text = int_text[: n_batches * batch_size * seq_length] #only full batches\n",
    "    \n",
    "    x_data = np.array(int_text[: n_batches * batch_size * seq_length]) #getting x_data from int_text\n",
    "    y_data = np.array(int_text[1: n_batches * batch_size * seq_length + 1] + [int_text[0]]) #getting y_data from int_text shifted by 1\n",
    "\n",
    "    x_batches = np.split(x_data.reshape(batch_size, -1), n_batches, 1)\n",
    "    y_batches = np.split(y_data.reshape(batch_size, -1), n_batches, 1)\n",
    "\n",
    "    return np.array(list(zip(x_batches, y_batches)))\n",
    "    \n",
    "\n",
    "\"\"\"\n",
    "DON'T MODIFY ANYTHING IN THIS CELL THAT IS BELOW THIS LINE\n",
    "\"\"\"\n",
    "tests.test_get_batches(get_batches)"
   ]
  },
  {
   "cell_type": "markdown",
   "metadata": {
    "colab_type": "text",
    "id": "kelHHYmDj69J"
   },
   "source": [
    "## Neural Network Training\n",
    "### Hyperparameters\n",
    "Tune the following parameters:\n",
    "\n",
    "- Set `num_epochs` to the number of epochs.\n",
    "- Set `batch_size` to the batch size.\n",
    "- Set `rnn_size` to the size of the RNNs.\n",
    "- Set `embed_dim` to the size of the embedding.\n",
    "- Set `seq_length` to the length of sequence.\n",
    "- Set `learning_rate` to the learning rate.\n",
    "- Set `show_every_n_batches` to the number of batches the neural network should print progress."
   ]
  },
  {
   "cell_type": "code",
   "execution_count": 21,
   "metadata": {
    "colab": {
     "autoexec": {
      "startup": false,
      "wait_interval": 0
     }
    },
    "colab_type": "code",
    "id": "ceJEt9PNj69J"
   },
   "outputs": [],
   "source": [
    "# Number of Epochs\n",
    "num_epochs = 100  # started at 100\n",
    "# Batch Size\n",
    "batch_size = 64\n",
    "# RNN Size\n",
    "rnn_size = 128\n",
    "# Embedding Dimension Size\n",
    "embed_dim = 256\n",
    "# Sequence Length\n",
    "seq_length = 20\n",
    "# Learning Rate\n",
    "learning_rate = .01\n",
    "# Show stats for every n number of batches\n",
    "show_every_n_batches = 20\n",
    "\n",
    "\"\"\"\n",
    "DON'T MODIFY ANYTHING IN THIS CELL THAT IS BELOW THIS LINE\n",
    "\"\"\"\n",
    "save_dir = './save'"
   ]
  },
  {
   "cell_type": "markdown",
   "metadata": {
    "colab_type": "text",
    "id": "KX6Of48uj69N"
   },
   "source": [
    "### Build the Graph\n",
    "Build the graph using the neural network you implemented."
   ]
  },
  {
   "cell_type": "code",
   "execution_count": 22,
   "metadata": {
    "colab": {
     "autoexec": {
      "startup": false,
      "wait_interval": 0
     },
     "base_uri": "https://localhost:8080/",
     "height": 1558,
     "output_extras": [
      {
       "item_id": 1
      }
     ]
    },
    "colab_type": "code",
    "executionInfo": {
     "elapsed": 602,
     "status": "error",
     "timestamp": 1522736801613,
     "user": {
      "displayName": "John Theo",
      "photoUrl": "//lh6.googleusercontent.com/-fECaVwQa6JE/AAAAAAAAAAI/AAAAAAAAFFc/W-idqhaMJgQ/s50-c-k-no/photo.jpg",
      "userId": "110310482521799337507"
     },
     "user_tz": 180
    },
    "id": "IAL_hWJ8j69O",
    "outputId": "25956ac0-5906-4e09-839b-538cc8cb0127"
   },
   "outputs": [],
   "source": [
    "\"\"\"\n",
    "DON'T MODIFY ANYTHING IN THIS CELL\n",
    "\"\"\"\n",
    "from tensorflow.contrib import seq2seq\n",
    "\n",
    "train_graph = tf.Graph()\n",
    "with train_graph.as_default():\n",
    "    vocab_size = len(int_to_vocab)\n",
    "    input_text, targets, lr = get_inputs()\n",
    "    input_data_shape = tf.shape(input_text)\n",
    "    cell, initial_state = get_init_cell(input_data_shape[0], rnn_size)\n",
    "    logits, final_state = build_nn(cell, rnn_size, input_text, vocab_size, embed_dim)\n",
    "\n",
    "    # Probabilities for generating words\n",
    "    probs = tf.nn.softmax(logits, name='probs')\n",
    "\n",
    "    # Loss function\n",
    "    cost = seq2seq.sequence_loss(\n",
    "        logits,\n",
    "        targets,\n",
    "        tf.ones([input_data_shape[0], input_data_shape[1]]))\n",
    "\n",
    "    # Optimizer\n",
    "    optimizer = tf.train.AdamOptimizer(lr)\n",
    "\n",
    "    # Gradient Clipping\n",
    "    gradients = optimizer.compute_gradients(cost)\n",
    "    capped_gradients = [(tf.clip_by_value(grad, -1., 1.), var) for grad, var in gradients if grad is not None]\n",
    "    train_op = optimizer.apply_gradients(capped_gradients)"
   ]
  },
  {
   "cell_type": "markdown",
   "metadata": {
    "colab_type": "text",
    "id": "kdrapJGoj69Q"
   },
   "source": [
    "## Train\n",
    "Train the neural network on the preprocessed data.  If you have a hard time getting a good loss, check the [forums](https://discussions.udacity.com/) to see if anyone is having the same problem."
   ]
  },
  {
   "cell_type": "code",
   "execution_count": 23,
   "metadata": {
    "colab": {
     "autoexec": {
      "startup": false,
      "wait_interval": 0
     }
    },
    "colab_type": "code",
    "id": "eJJCpU_uj69S"
   },
   "outputs": [
    {
     "name": "stdout",
     "output_type": "stream",
     "text": [
      "Epoch   0 Batch    0/53   train_loss = 8.825\n",
      "Epoch   0 Batch   20/53   train_loss = 5.926\n",
      "Epoch   0 Batch   40/53   train_loss = 5.405\n",
      "Epoch   1 Batch    7/53   train_loss = 5.092\n",
      "Epoch   1 Batch   27/53   train_loss = 4.851\n",
      "Epoch   1 Batch   47/53   train_loss = 4.680\n",
      "Epoch   2 Batch   14/53   train_loss = 4.621\n",
      "Epoch   2 Batch   34/53   train_loss = 4.494\n",
      "Epoch   3 Batch    1/53   train_loss = 4.219\n",
      "Epoch   3 Batch   21/53   train_loss = 4.081\n",
      "Epoch   3 Batch   41/53   train_loss = 4.103\n",
      "Epoch   4 Batch    8/53   train_loss = 3.875\n",
      "Epoch   4 Batch   28/53   train_loss = 3.776\n",
      "Epoch   4 Batch   48/53   train_loss = 3.704\n",
      "Epoch   5 Batch   15/53   train_loss = 3.706\n",
      "Epoch   5 Batch   35/53   train_loss = 3.573\n",
      "Epoch   6 Batch    2/53   train_loss = 3.542\n",
      "Epoch   6 Batch   22/53   train_loss = 3.368\n",
      "Epoch   6 Batch   42/53   train_loss = 3.222\n",
      "Epoch   7 Batch    9/53   train_loss = 3.247\n",
      "Epoch   7 Batch   29/53   train_loss = 3.123\n",
      "Epoch   7 Batch   49/53   train_loss = 3.067\n",
      "Epoch   8 Batch   16/53   train_loss = 3.032\n",
      "Epoch   8 Batch   36/53   train_loss = 2.985\n",
      "Epoch   9 Batch    3/53   train_loss = 2.889\n",
      "Epoch   9 Batch   23/53   train_loss = 2.853\n",
      "Epoch   9 Batch   43/53   train_loss = 2.817\n",
      "Epoch  10 Batch   10/53   train_loss = 2.740\n",
      "Epoch  10 Batch   30/53   train_loss = 2.725\n",
      "Epoch  10 Batch   50/53   train_loss = 2.710\n",
      "Epoch  11 Batch   17/53   train_loss = 2.607\n",
      "Epoch  11 Batch   37/53   train_loss = 2.597\n",
      "Epoch  12 Batch    4/53   train_loss = 2.510\n",
      "Epoch  12 Batch   24/53   train_loss = 2.469\n",
      "Epoch  12 Batch   44/53   train_loss = 2.532\n",
      "Epoch  13 Batch   11/53   train_loss = 2.452\n",
      "Epoch  13 Batch   31/53   train_loss = 2.388\n",
      "Epoch  13 Batch   51/53   train_loss = 2.392\n",
      "Epoch  14 Batch   18/53   train_loss = 2.357\n",
      "Epoch  14 Batch   38/53   train_loss = 2.269\n",
      "Epoch  15 Batch    5/53   train_loss = 2.268\n",
      "Epoch  15 Batch   25/53   train_loss = 2.248\n",
      "Epoch  15 Batch   45/53   train_loss = 2.248\n",
      "Epoch  16 Batch   12/53   train_loss = 2.128\n",
      "Epoch  16 Batch   32/53   train_loss = 2.115\n",
      "Epoch  16 Batch   52/53   train_loss = 2.141\n",
      "Epoch  17 Batch   19/53   train_loss = 2.067\n",
      "Epoch  17 Batch   39/53   train_loss = 1.995\n",
      "Epoch  18 Batch    6/53   train_loss = 2.031\n",
      "Epoch  18 Batch   26/53   train_loss = 1.957\n",
      "Epoch  18 Batch   46/53   train_loss = 1.922\n",
      "Epoch  19 Batch   13/53   train_loss = 1.844\n",
      "Epoch  19 Batch   33/53   train_loss = 1.964\n",
      "Epoch  20 Batch    0/53   train_loss = 1.815\n",
      "Epoch  20 Batch   20/53   train_loss = 1.882\n",
      "Epoch  20 Batch   40/53   train_loss = 1.888\n",
      "Epoch  21 Batch    7/53   train_loss = 1.812\n",
      "Epoch  21 Batch   27/53   train_loss = 1.771\n",
      "Epoch  21 Batch   47/53   train_loss = 1.776\n",
      "Epoch  22 Batch   14/53   train_loss = 1.728\n",
      "Epoch  22 Batch   34/53   train_loss = 1.733\n",
      "Epoch  23 Batch    1/53   train_loss = 1.727\n",
      "Epoch  23 Batch   21/53   train_loss = 1.687\n",
      "Epoch  23 Batch   41/53   train_loss = 1.578\n",
      "Epoch  24 Batch    8/53   train_loss = 1.637\n",
      "Epoch  24 Batch   28/53   train_loss = 1.674\n",
      "Epoch  24 Batch   48/53   train_loss = 1.667\n",
      "Epoch  25 Batch   15/53   train_loss = 1.525\n",
      "Epoch  25 Batch   35/53   train_loss = 1.528\n",
      "Epoch  26 Batch    2/53   train_loss = 1.569\n",
      "Epoch  26 Batch   22/53   train_loss = 1.581\n",
      "Epoch  26 Batch   42/53   train_loss = 1.524\n",
      "Epoch  27 Batch    9/53   train_loss = 1.458\n",
      "Epoch  27 Batch   29/53   train_loss = 1.608\n",
      "Epoch  27 Batch   49/53   train_loss = 1.548\n",
      "Epoch  28 Batch   16/53   train_loss = 1.460\n",
      "Epoch  28 Batch   36/53   train_loss = 1.488\n",
      "Epoch  29 Batch    3/53   train_loss = 1.379\n",
      "Epoch  29 Batch   23/53   train_loss = 1.395\n",
      "Epoch  29 Batch   43/53   train_loss = 1.388\n",
      "Epoch  30 Batch   10/53   train_loss = 1.245\n",
      "Epoch  30 Batch   30/53   train_loss = 1.380\n",
      "Epoch  30 Batch   50/53   train_loss = 1.296\n",
      "Epoch  31 Batch   17/53   train_loss = 1.259\n",
      "Epoch  31 Batch   37/53   train_loss = 1.282\n",
      "Epoch  32 Batch    4/53   train_loss = 1.233\n",
      "Epoch  32 Batch   24/53   train_loss = 1.294\n",
      "Epoch  32 Batch   44/53   train_loss = 1.366\n",
      "Epoch  33 Batch   11/53   train_loss = 1.252\n",
      "Epoch  33 Batch   31/53   train_loss = 1.194\n",
      "Epoch  33 Batch   51/53   train_loss = 1.225\n",
      "Epoch  34 Batch   18/53   train_loss = 1.258\n",
      "Epoch  34 Batch   38/53   train_loss = 1.188\n",
      "Epoch  35 Batch    5/53   train_loss = 1.168\n",
      "Epoch  35 Batch   25/53   train_loss = 1.166\n",
      "Epoch  35 Batch   45/53   train_loss = 1.298\n",
      "Epoch  36 Batch   12/53   train_loss = 1.117\n",
      "Epoch  36 Batch   32/53   train_loss = 1.162\n",
      "Epoch  36 Batch   52/53   train_loss = 1.200\n",
      "Epoch  37 Batch   19/53   train_loss = 1.177\n",
      "Epoch  37 Batch   39/53   train_loss = 1.127\n",
      "Epoch  38 Batch    6/53   train_loss = 1.208\n",
      "Epoch  38 Batch   26/53   train_loss = 1.082\n",
      "Epoch  38 Batch   46/53   train_loss = 1.101\n",
      "Epoch  39 Batch   13/53   train_loss = 1.031\n",
      "Epoch  39 Batch   33/53   train_loss = 1.116\n",
      "Epoch  40 Batch    0/53   train_loss = 1.083\n",
      "Epoch  40 Batch   20/53   train_loss = 1.071\n",
      "Epoch  40 Batch   40/53   train_loss = 1.154\n",
      "Epoch  41 Batch    7/53   train_loss = 1.075\n",
      "Epoch  41 Batch   27/53   train_loss = 0.982\n",
      "Epoch  41 Batch   47/53   train_loss = 1.052\n",
      "Epoch  42 Batch   14/53   train_loss = 1.071\n",
      "Epoch  42 Batch   34/53   train_loss = 1.020\n",
      "Epoch  43 Batch    1/53   train_loss = 1.043\n",
      "Epoch  43 Batch   21/53   train_loss = 0.993\n",
      "Epoch  43 Batch   41/53   train_loss = 0.992\n",
      "Epoch  44 Batch    8/53   train_loss = 1.005\n",
      "Epoch  44 Batch   28/53   train_loss = 1.020\n",
      "Epoch  44 Batch   48/53   train_loss = 1.060\n",
      "Epoch  45 Batch   15/53   train_loss = 0.977\n",
      "Epoch  45 Batch   35/53   train_loss = 0.939\n",
      "Epoch  46 Batch    2/53   train_loss = 0.954\n",
      "Epoch  46 Batch   22/53   train_loss = 1.021\n",
      "Epoch  46 Batch   42/53   train_loss = 0.908\n",
      "Epoch  47 Batch    9/53   train_loss = 0.940\n",
      "Epoch  47 Batch   29/53   train_loss = 1.003\n",
      "Epoch  47 Batch   49/53   train_loss = 1.001\n",
      "Epoch  48 Batch   16/53   train_loss = 0.914\n",
      "Epoch  48 Batch   36/53   train_loss = 0.927\n",
      "Epoch  49 Batch    3/53   train_loss = 0.834\n",
      "Epoch  49 Batch   23/53   train_loss = 0.897\n",
      "Epoch  49 Batch   43/53   train_loss = 0.909\n",
      "Epoch  50 Batch   10/53   train_loss = 0.800\n",
      "Epoch  50 Batch   30/53   train_loss = 0.862\n",
      "Epoch  50 Batch   50/53   train_loss = 0.859\n",
      "Epoch  51 Batch   17/53   train_loss = 0.837\n",
      "Epoch  51 Batch   37/53   train_loss = 0.846\n",
      "Epoch  52 Batch    4/53   train_loss = 0.790\n",
      "Epoch  52 Batch   24/53   train_loss = 0.859\n",
      "Epoch  52 Batch   44/53   train_loss = 0.942\n",
      "Epoch  53 Batch   11/53   train_loss = 0.821\n",
      "Epoch  53 Batch   31/53   train_loss = 0.804\n",
      "Epoch  53 Batch   51/53   train_loss = 0.808\n",
      "Epoch  54 Batch   18/53   train_loss = 0.838\n",
      "Epoch  54 Batch   38/53   train_loss = 0.817\n",
      "Epoch  55 Batch    5/53   train_loss = 0.814\n",
      "Epoch  55 Batch   25/53   train_loss = 0.841\n",
      "Epoch  55 Batch   45/53   train_loss = 0.883\n",
      "Epoch  56 Batch   12/53   train_loss = 0.763\n",
      "Epoch  56 Batch   32/53   train_loss = 0.857\n",
      "Epoch  56 Batch   52/53   train_loss = 0.836\n",
      "Epoch  57 Batch   19/53   train_loss = 0.802\n",
      "Epoch  57 Batch   39/53   train_loss = 0.769\n",
      "Epoch  58 Batch    6/53   train_loss = 0.871\n",
      "Epoch  58 Batch   26/53   train_loss = 0.835\n",
      "Epoch  58 Batch   46/53   train_loss = 0.817\n",
      "Epoch  59 Batch   13/53   train_loss = 0.748\n",
      "Epoch  59 Batch   33/53   train_loss = 0.814\n",
      "Epoch  60 Batch    0/53   train_loss = 0.783\n",
      "Epoch  60 Batch   20/53   train_loss = 0.791\n",
      "Epoch  60 Batch   40/53   train_loss = 0.848\n",
      "Epoch  61 Batch    7/53   train_loss = 0.805\n",
      "Epoch  61 Batch   27/53   train_loss = 0.676\n",
      "Epoch  61 Batch   47/53   train_loss = 0.798\n",
      "Epoch  62 Batch   14/53   train_loss = 0.758\n",
      "Epoch  62 Batch   34/53   train_loss = 0.784\n",
      "Epoch  63 Batch    1/53   train_loss = 0.759\n",
      "Epoch  63 Batch   21/53   train_loss = 0.743\n",
      "Epoch  63 Batch   41/53   train_loss = 0.759\n",
      "Epoch  64 Batch    8/53   train_loss = 0.739\n",
      "Epoch  64 Batch   28/53   train_loss = 0.799\n",
      "Epoch  64 Batch   48/53   train_loss = 0.797\n",
      "Epoch  65 Batch   15/53   train_loss = 0.729\n",
      "Epoch  65 Batch   35/53   train_loss = 0.744\n",
      "Epoch  66 Batch    2/53   train_loss = 0.739\n",
      "Epoch  66 Batch   22/53   train_loss = 0.758\n",
      "Epoch  66 Batch   42/53   train_loss = 0.713\n",
      "Epoch  67 Batch    9/53   train_loss = 0.691\n",
      "Epoch  67 Batch   29/53   train_loss = 0.819\n",
      "Epoch  67 Batch   49/53   train_loss = 0.767\n",
      "Epoch  68 Batch   16/53   train_loss = 0.762\n",
      "Epoch  68 Batch   36/53   train_loss = 0.732\n"
     ]
    },
    {
     "name": "stdout",
     "output_type": "stream",
     "text": [
      "Epoch  69 Batch    3/53   train_loss = 0.638\n",
      "Epoch  69 Batch   23/53   train_loss = 0.723\n",
      "Epoch  69 Batch   43/53   train_loss = 0.725\n",
      "Epoch  70 Batch   10/53   train_loss = 0.627\n",
      "Epoch  70 Batch   30/53   train_loss = 0.664\n",
      "Epoch  70 Batch   50/53   train_loss = 0.652\n",
      "Epoch  71 Batch   17/53   train_loss = 0.632\n",
      "Epoch  71 Batch   37/53   train_loss = 0.666\n",
      "Epoch  72 Batch    4/53   train_loss = 0.625\n",
      "Epoch  72 Batch   24/53   train_loss = 0.665\n",
      "Epoch  72 Batch   44/53   train_loss = 0.734\n",
      "Epoch  73 Batch   11/53   train_loss = 0.686\n",
      "Epoch  73 Batch   31/53   train_loss = 0.607\n",
      "Epoch  73 Batch   51/53   train_loss = 0.613\n",
      "Epoch  74 Batch   18/53   train_loss = 0.664\n",
      "Epoch  74 Batch   38/53   train_loss = 0.675\n",
      "Epoch  75 Batch    5/53   train_loss = 0.633\n",
      "Epoch  75 Batch   25/53   train_loss = 0.682\n",
      "Epoch  75 Batch   45/53   train_loss = 0.705\n",
      "Epoch  76 Batch   12/53   train_loss = 0.605\n",
      "Epoch  76 Batch   32/53   train_loss = 0.653\n",
      "Epoch  76 Batch   52/53   train_loss = 0.651\n",
      "Epoch  77 Batch   19/53   train_loss = 0.648\n",
      "Epoch  77 Batch   39/53   train_loss = 0.623\n",
      "Epoch  78 Batch    6/53   train_loss = 0.672\n",
      "Epoch  78 Batch   26/53   train_loss = 0.647\n",
      "Epoch  78 Batch   46/53   train_loss = 0.654\n",
      "Epoch  79 Batch   13/53   train_loss = 0.589\n",
      "Epoch  79 Batch   33/53   train_loss = 0.639\n",
      "Epoch  80 Batch    0/53   train_loss = 0.655\n",
      "Epoch  80 Batch   20/53   train_loss = 0.671\n",
      "Epoch  80 Batch   40/53   train_loss = 0.763\n",
      "Epoch  81 Batch    7/53   train_loss = 0.703\n",
      "Epoch  81 Batch   27/53   train_loss = 0.582\n",
      "Epoch  81 Batch   47/53   train_loss = 0.693\n",
      "Epoch  82 Batch   14/53   train_loss = 0.629\n",
      "Epoch  82 Batch   34/53   train_loss = 0.658\n",
      "Epoch  83 Batch    1/53   train_loss = 0.657\n",
      "Epoch  83 Batch   21/53   train_loss = 0.625\n",
      "Epoch  83 Batch   41/53   train_loss = 0.613\n",
      "Epoch  84 Batch    8/53   train_loss = 0.685\n",
      "Epoch  84 Batch   28/53   train_loss = 0.700\n",
      "Epoch  84 Batch   48/53   train_loss = 0.719\n",
      "Epoch  85 Batch   15/53   train_loss = 0.625\n",
      "Epoch  85 Batch   35/53   train_loss = 0.624\n",
      "Epoch  86 Batch    2/53   train_loss = 0.701\n",
      "Epoch  86 Batch   22/53   train_loss = 0.706\n",
      "Epoch  86 Batch   42/53   train_loss = 0.657\n",
      "Epoch  87 Batch    9/53   train_loss = 0.640\n",
      "Epoch  87 Batch   29/53   train_loss = 0.751\n",
      "Epoch  87 Batch   49/53   train_loss = 0.701\n",
      "Epoch  88 Batch   16/53   train_loss = 0.711\n",
      "Epoch  88 Batch   36/53   train_loss = 0.688\n",
      "Epoch  89 Batch    3/53   train_loss = 0.583\n",
      "Epoch  89 Batch   23/53   train_loss = 0.634\n",
      "Epoch  89 Batch   43/53   train_loss = 0.640\n",
      "Epoch  90 Batch   10/53   train_loss = 0.570\n",
      "Epoch  90 Batch   30/53   train_loss = 0.614\n",
      "Epoch  90 Batch   50/53   train_loss = 0.607\n",
      "Epoch  91 Batch   17/53   train_loss = 0.575\n",
      "Epoch  91 Batch   37/53   train_loss = 0.577\n",
      "Epoch  92 Batch    4/53   train_loss = 0.571\n",
      "Epoch  92 Batch   24/53   train_loss = 0.567\n",
      "Epoch  92 Batch   44/53   train_loss = 0.638\n",
      "Epoch  93 Batch   11/53   train_loss = 0.563\n",
      "Epoch  93 Batch   31/53   train_loss = 0.544\n",
      "Epoch  93 Batch   51/53   train_loss = 0.543\n",
      "Epoch  94 Batch   18/53   train_loss = 0.551\n",
      "Epoch  94 Batch   38/53   train_loss = 0.540\n",
      "Epoch  95 Batch    5/53   train_loss = 0.536\n",
      "Epoch  95 Batch   25/53   train_loss = 0.552\n",
      "Epoch  95 Batch   45/53   train_loss = 0.563\n",
      "Epoch  96 Batch   12/53   train_loss = 0.503\n",
      "Epoch  96 Batch   32/53   train_loss = 0.532\n",
      "Epoch  96 Batch   52/53   train_loss = 0.504\n",
      "Epoch  97 Batch   19/53   train_loss = 0.537\n",
      "Epoch  97 Batch   39/53   train_loss = 0.486\n",
      "Epoch  98 Batch    6/53   train_loss = 0.551\n",
      "Epoch  98 Batch   26/53   train_loss = 0.547\n",
      "Epoch  98 Batch   46/53   train_loss = 0.515\n",
      "Epoch  99 Batch   13/53   train_loss = 0.488\n",
      "Epoch  99 Batch   33/53   train_loss = 0.530\n",
      "Model Trained and Saved\n"
     ]
    }
   ],
   "source": [
    "\"\"\"\n",
    "DON'T MODIFY ANYTHING IN THIS CELL\n",
    "\"\"\"\n",
    "batches = get_batches(int_text, batch_size, seq_length)\n",
    "\n",
    "with tf.Session(graph=train_graph) as sess:\n",
    "    sess.run(tf.global_variables_initializer())\n",
    "\n",
    "    for epoch_i in range(num_epochs):\n",
    "        state = sess.run(initial_state, {input_text: batches[0][0]})\n",
    "\n",
    "        for batch_i, (x, y) in enumerate(batches):\n",
    "            feed = {\n",
    "                input_text: x,\n",
    "                targets: y,\n",
    "                initial_state: state,\n",
    "                lr: learning_rate}\n",
    "            train_loss, state, _ = sess.run([cost, final_state, train_op], feed)\n",
    "\n",
    "            # Show every <show_every_n_batches> batches\n",
    "            if (epoch_i * len(batches) + batch_i) % show_every_n_batches == 0:\n",
    "                print('Epoch {:>3} Batch {:>4}/{}   train_loss = {:.3f}'.format(\n",
    "                    epoch_i,\n",
    "                    batch_i,\n",
    "                    len(batches),\n",
    "                    train_loss))\n",
    "\n",
    "    # Save Model\n",
    "    saver = tf.train.Saver()\n",
    "    saver.save(sess, save_dir)\n",
    "    print('Model Trained and Saved')"
   ]
  },
  {
   "cell_type": "markdown",
   "metadata": {
    "colab_type": "text",
    "id": "EZXw8f4lj69U"
   },
   "source": [
    "## Save Parameters\n",
    "Save `seq_length` and `save_dir` for generating a new TV script."
   ]
  },
  {
   "cell_type": "code",
   "execution_count": 24,
   "metadata": {
    "colab": {
     "autoexec": {
      "startup": false,
      "wait_interval": 0
     }
    },
    "colab_type": "code",
    "id": "qz09gPTYj69W"
   },
   "outputs": [],
   "source": [
    "\"\"\"\n",
    "DON'T MODIFY ANYTHING IN THIS CELL\n",
    "\"\"\"\n",
    "# Save parameters for checkpoint\n",
    "helper.save_params((seq_length, save_dir))"
   ]
  },
  {
   "cell_type": "markdown",
   "metadata": {
    "colab_type": "text",
    "id": "CIb4TLZpj69a"
   },
   "source": [
    "# Checkpoint"
   ]
  },
  {
   "cell_type": "code",
   "execution_count": 25,
   "metadata": {
    "colab": {
     "autoexec": {
      "startup": false,
      "wait_interval": 0
     }
    },
    "colab_type": "code",
    "id": "wwK8jawyj69c"
   },
   "outputs": [],
   "source": [
    "\"\"\"\n",
    "DON'T MODIFY ANYTHING IN THIS CELL\n",
    "\"\"\"\n",
    "import tensorflow as tf\n",
    "import numpy as np\n",
    "import helper\n",
    "import problem_unittests as tests\n",
    "\n",
    "_, vocab_to_int, int_to_vocab, token_dict = helper.load_preprocess()\n",
    "seq_length, load_dir = helper.load_params()"
   ]
  },
  {
   "cell_type": "markdown",
   "metadata": {
    "colab_type": "text",
    "id": "10Loavvdj69e"
   },
   "source": [
    "## Implement Generate Functions\n",
    "### Get Tensors\n",
    "Get tensors from `loaded_graph` using the function [`get_tensor_by_name()`](https://www.tensorflow.org/api_docs/python/tf/Graph#get_tensor_by_name).  Get the tensors using the following names:\n",
    "- \"input:0\"\n",
    "- \"initial_state:0\"\n",
    "- \"final_state:0\"\n",
    "- \"probs:0\"\n",
    "\n",
    "Return the tensors in the following tuple `(InputTensor, InitialStateTensor, FinalStateTensor, ProbsTensor)` "
   ]
  },
  {
   "cell_type": "code",
   "execution_count": 26,
   "metadata": {
    "colab": {
     "autoexec": {
      "startup": false,
      "wait_interval": 0
     }
    },
    "colab_type": "code",
    "id": "1f0X5TNQj69f"
   },
   "outputs": [
    {
     "name": "stdout",
     "output_type": "stream",
     "text": [
      "Tests Passed\n"
     ]
    }
   ],
   "source": [
    "def get_tensors(loaded_graph):\n",
    "    \"\"\"\n",
    "    Get input, initial state, final state, and probabilities tensor from <loaded_graph>\n",
    "    :param loaded_graph: TensorFlow graph loaded from file\n",
    "    :return: Tuple (InputTensor, InitialStateTensor, FinalStateTensor, ProbsTensor)\n",
    "    \"\"\"\n",
    "    # TODO: Implement Function\n",
    "    InputTensor = loaded_graph.get_tensor_by_name(\"input:0\")\n",
    "    InitialStateTensor = loaded_graph.get_tensor_by_name(\"initial_state:0\")\n",
    "    FinalStateTensor = loaded_graph.get_tensor_by_name(\"final_state:0\")\n",
    "    ProbsTensor = loaded_graph.get_tensor_by_name(\"probs:0\")\n",
    "    \n",
    "    return InputTensor, InitialStateTensor, FinalStateTensor, ProbsTensor\n",
    "\n",
    "\"\"\"\n",
    "DON'T MODIFY ANYTHING IN THIS CELL THAT IS BELOW THIS LINE\n",
    "\"\"\"\n",
    "tests.test_get_tensors(get_tensors)"
   ]
  },
  {
   "cell_type": "markdown",
   "metadata": {
    "colab_type": "text",
    "id": "sQEWip6Zj69i"
   },
   "source": [
    "### Choose Word\n",
    "Implement the `pick_word()` function to select the next word using `probabilities`."
   ]
  },
  {
   "cell_type": "code",
   "execution_count": null,
   "metadata": {
    "colab": {
     "autoexec": {
      "startup": false,
      "wait_interval": 0
     }
    },
    "colab_type": "code",
    "id": "JmpRJXs8j69j"
   },
   "outputs": [],
   "source": [
    "def pick_word(probabilities, int_to_vocab):\n",
    "    \"\"\"\n",
    "    Pick the next word in the generated text\n",
    "    :param probabilities: Probabilites of the next word\n",
    "    :param int_to_vocab: Dictionary of word ids as the keys and words as the values\n",
    "    :return: String of the predicted word\n",
    "    \"\"\"\n",
    "    # TODO: Implement Function\n",
    "    idx=np.argmax(probabilities)\n",
    "    return int_to_vocab[idx]\n",
    "\n",
    "\"\"\"\n",
    "DON'T MODIFY ANYTHING IN THIS CELL THAT IS BELOW THIS LINE\n",
    "\"\"\"\n",
    "tests.test_pick_word(pick_word)"
   ]
  },
  {
   "cell_type": "markdown",
   "metadata": {
    "colab_type": "text",
    "id": "uOR79tE7j69l"
   },
   "source": [
    "## Generate TV Script\n",
    "This will generate the TV script for you.  Set `gen_length` to the length of TV script you want to generate."
   ]
  },
  {
   "cell_type": "code",
   "execution_count": null,
   "metadata": {
    "colab": {
     "autoexec": {
      "startup": false,
      "wait_interval": 0
     }
    },
    "colab_type": "code",
    "id": "F6kP3_Jqj69m"
   },
   "outputs": [],
   "source": [
    "gen_length = 200\n",
    "# homer_simpson, moe_szyslak, or Barney_Gumble\n",
    "prime_word = 'moe_szyslak'\n",
    "\n",
    "\"\"\"\n",
    "DON'T MODIFY ANYTHING IN THIS CELL THAT IS BELOW THIS LINE\n",
    "\"\"\"\n",
    "loaded_graph = tf.Graph()\n",
    "with tf.Session(graph=loaded_graph) as sess:\n",
    "    # Load saved model\n",
    "    loader = tf.train.import_meta_graph(load_dir + '.meta')\n",
    "    loader.restore(sess, load_dir)\n",
    "\n",
    "    # Get Tensors from loaded model\n",
    "    input_text, initial_state, final_state, probs = get_tensors(loaded_graph)\n",
    "\n",
    "    # Sentences generation setup\n",
    "    gen_sentences = [prime_word + ':']\n",
    "    prev_state = sess.run(initial_state, {input_text: np.array([[1]])})\n",
    "\n",
    "    # Generate sentences\n",
    "    for n in range(gen_length):\n",
    "        # Dynamic Input\n",
    "        dyn_input = [[vocab_to_int[word] for word in gen_sentences[-seq_length:]]]\n",
    "        dyn_seq_length = len(dyn_input[0])\n",
    "\n",
    "        # Get Prediction\n",
    "        probabilities, prev_state = sess.run(\n",
    "            [probs, final_state],\n",
    "            {input_text: dyn_input, initial_state: prev_state})\n",
    "        \n",
    "        pred_word = pick_word(probabilities[0][dyn_seq_length-1], int_to_vocab)\n",
    "\n",
    "        gen_sentences.append(pred_word)\n",
    "    \n",
    "    # Remove tokens\n",
    "    tv_script = ' '.join(gen_sentences)\n",
    "    for key, token in token_dict.items():\n",
    "        ending = ' ' if key in ['\\n', '(', '\"'] else ''\n",
    "        tv_script = tv_script.replace(' ' + token.lower(), key)\n",
    "    tv_script = tv_script.replace('\\n ', '\\n')\n",
    "    tv_script = tv_script.replace('( ', '(')\n",
    "        \n",
    "    print(tv_script)"
   ]
  },
  {
   "cell_type": "markdown",
   "metadata": {
    "colab_type": "text",
    "id": "hPVaJeT8j69p"
   },
   "source": [
    "# The TV Script is Nonsensical\n",
    "It's ok if the TV script doesn't make any sense.  We trained on less than a megabyte of text.  In order to get good results, you'll have to use a smaller vocabulary or get more data.  Luckily there's more data!  As we mentioned in the beggining of this project, this is a subset of [another dataset](https://www.kaggle.com/wcukierski/the-simpsons-by-the-data).  We didn't have you train on all the data, because that would take too long.  However, you are free to train your neural network on all the data.  After you complete the project, of course.\n",
    "# Submitting This Project\n",
    "When submitting this project, make sure to run all the cells before saving the notebook. Save the notebook file as \"dlnd_tv_script_generation.ipynb\" and save it as a HTML file under \"File\" -> \"Download as\". Include the \"helper.py\" and \"problem_unittests.py\" files in your submission."
   ]
  }
 ],
 "metadata": {
  "accelerator": "GPU",
  "colab": {
   "collapsed_sections": [],
   "default_view": {},
   "name": "dlnd_tv_script_generation.ipynb",
   "provenance": [],
   "version": "0.3.2",
   "views": {}
  },
  "kernelspec": {
   "display_name": "Python 3",
   "language": "python",
   "name": "python3"
  },
  "language_info": {
   "codemirror_mode": {
    "name": "ipython",
    "version": 3
   },
   "file_extension": ".py",
   "mimetype": "text/x-python",
   "name": "python",
   "nbconvert_exporter": "python",
   "pygments_lexer": "ipython3",
   "version": "3.6.4"
  },
  "toc": {
   "nav_menu": {},
   "number_sections": true,
   "sideBar": true,
   "skip_h1_title": false,
   "toc_cell": false,
   "toc_position": {},
   "toc_section_display": "block",
   "toc_window_display": false
  }
 },
 "nbformat": 4,
 "nbformat_minor": 1
}
